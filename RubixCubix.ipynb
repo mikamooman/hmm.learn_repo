{
 "cells": [
  {
   "cell_type": "code",
   "execution_count": 57,
   "metadata": {},
   "outputs": [],
   "source": [
    "import numpy as np\n",
    "import math\n",
    "import itertools"
   ]
  },
  {
   "cell_type": "code",
   "execution_count": 105,
   "metadata": {},
   "outputs": [],
   "source": [
    "A = np.array ([[1, 2, 3, 4],\n",
    "               [2, 3, 4, 1],\n",
    "               [3, 4, 1, 2],\n",
    "               [4, 1, 2, 3]]);\n",
    "\n",
    "B = np.array ([[4, 2, 1, 3],\n",
    "               [2, 4, 3, 1],\n",
    "               [3, 1, 4, 2],\n",
    "               [1, 3, 2, 4]]);\n"
   ]
  },
  {
   "cell_type": "markdown",
   "metadata": {},
   "source": [
    "# Ladies and Gentlemen welcome to RubixCubix, here we attempt to   unscramble a transition matrix \"B\" into the same configuration as some other transition matrix \"A\"\n",
    "\n",
    "# The Clever method employed here is to find every row and column permutation of B there are (n!)^2 such permutations of an nxn matrix B\n",
    "\n",
    "# Each permutation of B is then subtracted from A. The absolute value of the resulting matrix is found and then each element is summed to give a rough measure of the error between each permutation of B and A.\n",
    "\n",
    "# After we cleverly brute force every such permutation of B and find the absolute difference between it and A we choose the permutation of B that gives the lowest error between it and A."
   ]
  },
  {
   "cell_type": "markdown",
   "metadata": {},
   "source": [
    "# Steps\n",
    "\n",
    "1) We start by creating a list of all permutations of [1, 0, 0 ,0] we call this \"Permutation_list\"\n",
    "\n",
    "2) we create a second list containing all permutation of [0, 1, 2 ,3] we call this \"P\"\n",
    "\n",
    "3) we begin by chosing one of 24 permutations for the rows of matrix B. \n",
    "    -> this is accomplished by creating a unique permutation matrix (each column and row contains a single 1 and all remaining elements are 0) We then left hand multiply B by this permutation marix.\n",
    " \n",
    "4) for each row permutation of B we cycle through all possible column permutations of B.\n",
    "    -> this is accomplished by right hand multiplying each row permutation of B by each of 24 column permutation matrices.\n",
    "    \n",
    "5) Every time a new permutation is created we store the absolute difference between it and A. After we cycle through all possible configurations of matrix B we choose the configuration with the lowest absolute error. "
   ]
  },
  {
   "cell_type": "code",
   "execution_count": 72,
   "metadata": {},
   "outputs": [],
   "source": [
    "# we construct our Permutation_list and P\n",
    "p1 = [1, 0, 0 ,0]\n",
    "p2 = [0, 1, 0, 0]\n",
    "p3 = [0, 0, 1, 0]\n",
    "p4 = [0, 0, 0, 1]\n",
    "# The permutation list is used to create unique permutation matrices for left/right hand multiplication of matrix B\n",
    "Permutation_list = [p1, p2, p3, p4]\n",
    "# The List P is used to create the 24 unique permutation matrices from \"Permutation_list\" , 24 bc 4!=24\n",
    "P = list(itertools.permutations([0, 1, 2, 3]))"
   ]
  },
  {
   "cell_type": "code",
   "execution_count": 107,
   "metadata": {},
   "outputs": [
    {
     "data": {
      "text/plain": [
       "array([[1, 2, 3, 4],\n",
       "       [2, 3, 4, 1],\n",
       "       [3, 4, 1, 2],\n",
       "       [4, 1, 2, 3]])"
      ]
     },
     "execution_count": 107,
     "metadata": {},
     "output_type": "execute_result"
    }
   ],
   "source": [
    "# WE create an empty list to append the absolute errors into \n",
    "Error_list = [];\n",
    "#We begin by ierating over all row permutations. P1 is our row permutation matrix we see \"permutation_list\" and \"P\" are used to build it\n",
    "for i in range(0,24):\n",
    "    P1 = np.array([Permutation_list[P[i][0]],\n",
    "                   Permutation_list[P[i][1]],\n",
    "                   Permutation_list[P[i][2]],\n",
    "                   Permutation_list[P[i][3]]]);\n",
    "#We left multiply B with P1 to create a given row permutation    \n",
    "    P1B =np.dot(P1, B)\n",
    "# We now repeat the above steps but now we iterate over all column permutations\n",
    "    for x in range(0, 24):\n",
    "        P2 = np.array([Permutation_list[P[x][0]],\n",
    "                       Permutation_list[P[x][1]],\n",
    "                       Permutation_list[P[x][2]],\n",
    "                       Permutation_list[P[x][3]]]);\n",
    "# We right hand multiply our row permutation P1B by are column permutation matrix P2 to complete our current configuration of B\n",
    "        P1BP2 = np.dot(P1B, P2);\n",
    "# The absolute Error between the current configuration and A are computed and appended to the list we created beforehand\n",
    "        Error = np.sum(abs(A-P1BP2));\n",
    "        Error_list.append(Error);\n",
    "# We find the indice of this list that contains the lowest error \n",
    "index_min=np.argmin(Error_list)\n",
    "# We divide by 24 to find which row permutation was used since each row permutation is repeated 24 times in a row \n",
    "find_rows = math.floor(index_min/24)\n",
    "# We use the remainded between the indice and 24 to find which column permutation was used to find the minimum error.\n",
    "find_columns = index_min%24\n",
    "# we reconstruct the row and columns permutation matrices to transform B into A\n",
    "P1 = np.array([Permutation_list[P[find_rows][0]],\n",
    "               Permutation_list[P[find_rows][1]],\n",
    "               Permutation_list[P[find_rows][2]],\n",
    "               Permutation_list[P[find_rows][3]]]);\n",
    "P2 = np.array([Permutation_list[P[find_columns][0]],\n",
    "               Permutation_list[P[find_columns][1]],\n",
    "               Permutation_list[P[find_columns][2]],\n",
    "               Permutation_list[P[find_columns][3]]]);\n",
    "#Finally B is converted into the configuration that most resembles A\n",
    "np.dot(np.dot(P1, B), P2)\n",
    "    "
   ]
  },
  {
   "cell_type": "markdown",
   "metadata": {},
   "source": [
    "# Below is the program without all the gobbeldeygook"
   ]
  },
  {
   "cell_type": "code",
   "execution_count": 101,
   "metadata": {},
   "outputs": [],
   "source": [
    "p1 = [1, 0, 0 ,0]\n",
    "p2 = [0, 1, 0, 0]\n",
    "p3 = [0, 0, 1, 0]\n",
    "p4 = [0, 0, 0, 1]\n",
    "Permutation_list = [p1, p2, p3, p4]\n",
    "P = list(itertools.permutations([0, 1, 2, 3]))"
   ]
  },
  {
   "cell_type": "code",
   "execution_count": 106,
   "metadata": {},
   "outputs": [
    {
     "data": {
      "text/plain": [
       "array([[1, 2, 3, 4],\n",
       "       [2, 3, 4, 1],\n",
       "       [3, 4, 1, 2],\n",
       "       [4, 1, 2, 3]])"
      ]
     },
     "execution_count": 106,
     "metadata": {},
     "output_type": "execute_result"
    }
   ],
   "source": [
    "Error_list = [];\n",
    "for i in range(0,24):\n",
    "    P1 = np.array([Permutation_list[P[i][0]],\n",
    "                   Permutation_list[P[i][1]],\n",
    "                   Permutation_list[P[i][2]],\n",
    "                   Permutation_list[P[i][3]]]);\n",
    "    P1B =np.dot(P1, B)\n",
    "    for x in range(0, 24):\n",
    "        P2 = np.array([Permutation_list[P[x][0]],\n",
    "                       Permutation_list[P[x][1]],\n",
    "                       Permutation_list[P[x][2]],\n",
    "                       Permutation_list[P[x][3]]]);\n",
    "        P1BP2 = np.dot(P1B, P2);\n",
    "        Error = np.sum(abs(A-P1BP2));\n",
    "        Error_list.append(Error);\n",
    "index_min=np.argmin(Error_list)\n",
    "find_rows = math.floor(index_min/24)\n",
    "find_columns = index_min%24\n",
    "P1 = np.array([Permutation_list[P[find_rows][0]],\n",
    "               Permutation_list[P[find_rows][1]],\n",
    "               Permutation_list[P[find_rows][2]],\n",
    "               Permutation_list[P[find_rows][3]]]);\n",
    "P2 = np.array([Permutation_list[P[find_columns][0]],\n",
    "               Permutation_list[P[find_columns][1]],\n",
    "               Permutation_list[P[find_columns][2]],\n",
    "               Permutation_list[P[find_columns][3]]]);\n",
    "np.dot(np.dot(P1, B), P2)"
   ]
  },
  {
   "cell_type": "code",
   "execution_count": null,
   "metadata": {},
   "outputs": [],
   "source": []
  }
 ],
 "metadata": {
  "kernelspec": {
   "display_name": "Python 3",
   "language": "python",
   "name": "python3"
  },
  "language_info": {
   "codemirror_mode": {
    "name": "ipython",
    "version": 3
   },
   "file_extension": ".py",
   "mimetype": "text/x-python",
   "name": "python",
   "nbconvert_exporter": "python",
   "pygments_lexer": "ipython3",
   "version": "3.6.3"
  }
 },
 "nbformat": 4,
 "nbformat_minor": 2
}
