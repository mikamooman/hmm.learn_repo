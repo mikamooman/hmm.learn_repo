{
 "cells": [
  {
   "cell_type": "code",
   "execution_count": 10,
   "metadata": {},
   "outputs": [],
   "source": [
    "import numpy as np\n",
    "import random\n",
    "import matplotlib.pyplot as plt\n",
    "from hmmlearn import hmm\n",
    "import sys\n",
    "import warnings\n",
    "import powerlaw\n",
    "if not sys.warnoptions:\n",
    "    warnings.simplefilter(\"ignore\")"
   ]
  },
  {
   "cell_type": "code",
   "execution_count": 24,
   "metadata": {},
   "outputs": [],
   "source": [
    "A = np.array([[0.99, 0.01, 0, 0],\n",
    "              [0.01, 0.9899, 0, 0.0001],\n",
    "              [0, 0, 0.999, 0.001],\n",
    "              [0, 0.0001, 0.001, 0.9989]]);\n",
    "\n",
    "A1 = np.array([[0.497, 0.003, 0.497, 0.003],\n",
    "              [0.003, 0.497, 0.003, 0.497],\n",
    "              [0.497, 0.003, 0.497, 0.003],\n",
    "              [0.003, 0.497, 0.003, 0.497]]);\n",
    "\n",
    "B = np.array([[1, 0],\n",
    "              [0, 1],\n",
    "              [1, 0],\n",
    "              [0, 1,]]);\n"
   ]
  },
  {
   "cell_type": "code",
   "execution_count": 39,
   "metadata": {},
   "outputs": [],
   "source": [
    "# T is Transition matrix & E is emission matrix \n",
    "def Generatedata(T, E, number_observations):\n",
    "    # we initialize and empty list in order to store our sequence of observations\n",
    "    Observations = [];\n",
    "    #We will also store transitions from on -> off and vice-versa\n",
    "    switch = [];\n",
    "    # we initialize the time spent in the initial state as 1 time step\n",
    "    time_in_state =1;\n",
    "    State = 0;\n",
    "    Prob_nextstate = 0;\n",
    "    Prob_currentobs =0;\n",
    "    # First we choose an observation given that we are in state 0\n",
    "    current_observation = random.uniform(0, 1);\n",
    "    for o_state in range(0, E.shape[1]):\n",
    "        Prob_currentobs = Prob_currentobs + E[State, o_state]\n",
    "        #Prob_currentobs = 0;\n",
    "        if current_observation <= Prob_currentobs:\n",
    "            Observations.append(o_state)\n",
    "            Prob_currentobs = 0;\n",
    "            break\n",
    "    # after appending the first observation we choose the next state\n",
    "    for time_step in range(0, number_observations-1):\n",
    "        next_state = random.uniform(0, 1);\n",
    "        #Prob_nextstate =0;\n",
    "        for i_next_state in range(0,T.shape[1]):\n",
    "            Prob_nextstate = Prob_nextstate + T[State, i_next_state];\n",
    "            if next_state <= Prob_nextstate:\n",
    "                State = i_next_state;\n",
    "                Prob_nextstate =0;\n",
    "                # we have chosen the next state so we choose and observation and append it to our list\n",
    "                current_observation = random.uniform(0, 1);\n",
    "                for o_current_observation in range(0, E.shape[1]):\n",
    "                    Prob_currentobs = Prob_currentobs + E[State, o_current_observation]\n",
    "                    # Prob_currentobs = 0;\n",
    "                    if current_observation <= Prob_currentobs:\n",
    "                        # We check to see if we emit the same observation state as the last time step\n",
    "                        # If the observation is the same then we add 1 to time_in_state\n",
    "                        if o_current_observation == Observations[time_step]:\n",
    "                            time_in_state += 1\n",
    "                        # If we emit a new observation we first append the amount of steps spent emiting the previous observation\n",
    "                        # We then reset time_in_state to 1\n",
    "                        else:\n",
    "                            switch.append(time_in_state)\n",
    "                            time_in_state = 1\n",
    "                        Observations.append(o_current_observation)\n",
    "                        Prob_currentobs = 0;\n",
    "                        break\n",
    "                break\n",
    "    switch.append(time_in_state)\n",
    "    return [Observations,switch]"
   ]
  },
  {
   "cell_type": "markdown",
   "metadata": {},
   "source": [
    "# We now plot a histogram of the switch\n",
    "\n",
    "## since we only have 2 observable states and we start in the on state we can separate the consecutive times spent in either on or off by splitting (switch) into two separate lists"
   ]
  },
  {
   "cell_type": "code",
   "execution_count": 40,
   "metadata": {},
   "outputs": [],
   "source": [
    "Q = Generatedata(A, B, 1000000)\n",
    "sw = Q[1]\n",
    "on =[];\n",
    "off = [];\n",
    "for i in range(0, len(sw)):\n",
    "    if i%2 > 0:\n",
    "        off.append(sw[i])\n",
    "    else:\n",
    "        on.append(sw[i])"
   ]
  },
  {
   "cell_type": "code",
   "execution_count": 41,
   "metadata": {},
   "outputs": [
    {
     "data": {
      "image/png": "[encoded data removed]",
      "text/plain": [
       "<matplotlib.figure.Figure at 0x1ae330cb9e8>"
      ]
     },
     "metadata": {},
     "output_type": "display_data"
    }
   ],
   "source": [
    "plt.hist(sw, bins = 150, color = 'b')\n",
    "plt.xlabel('Number of Consecutive Timesteps')\n",
    "plt.ylabel('Frequency')\n",
    "plt.show()"
   ]
  },
  {
   "cell_type": "markdown",
   "metadata": {},
   "source": [
    "## below we just compute some statistical measurements to make sense of the distribution"
   ]
  },
  {
   "cell_type": "code",
   "execution_count": 29,
   "metadata": {},
   "outputs": [
    {
     "data": {
      "text/plain": [
       "171.82130584192439"
      ]
     },
     "execution_count": 29,
     "metadata": {},
     "output_type": "execute_result"
    }
   ],
   "source": [
    "np.mean(sw)"
   ]
  },
  {
   "cell_type": "code",
   "execution_count": 18,
   "metadata": {},
   "outputs": [
    {
     "name": "stdout",
     "output_type": "stream",
     "text": [
      "4.2510172389562655\n",
      "1.3672371160554306\n",
      "178.69597617710775\n",
      "175116.4130394513\n"
     ]
    }
   ],
   "source": [
    "hm = np.log(sw)\n",
    "print(np.mean(hm))\n",
    "print(np.std(hm))\n",
    "\n",
    "print(np.exp(np.mean(hm) + (np.std(hm)**2)/2 ))\n",
    "print((np.exp((np.std(hm)**2))-1)*np.exp(2*np.mean(hm)+ (np.std(hm)**2) ))"
   ]
  },
  {
   "cell_type": "code",
   "execution_count": 19,
   "metadata": {},
   "outputs": [
    {
     "name": "stdout",
     "output_type": "stream",
     "text": [
      "131400.39143609547\n",
      "171.82130584192439\n"
     ]
    }
   ],
   "source": [
    "print(np.var(sw))\n",
    "print(np.mean(sw))"
   ]
  },
  {
   "cell_type": "code",
   "execution_count": 49,
   "metadata": {},
   "outputs": [
    {
     "name": "stdout",
     "output_type": "stream",
     "text": [
      "159873.35861032334\n",
      "178.9355528066118\n"
     ]
    }
   ],
   "source": [
    "print(np.var(on))\n",
    "print(np.mean(on))"
   ]
  },
  {
   "cell_type": "code",
   "execution_count": 50,
   "metadata": {},
   "outputs": [
    {
     "name": "stdout",
     "output_type": "stream",
     "text": [
      "149819.85049542514\n",
      "179.62297145151922\n"
     ]
    }
   ],
   "source": [
    "print(np.var(off))\n",
    "print(np.mean(off))"
   ]
  },
  {
   "cell_type": "markdown",
   "metadata": {},
   "source": [
    "## We do the same thing as above, however; instead of using the actual transition matrix (A) we use a transition matrix that hmm.learn decided was a viable transition matrx for explaining the sequence generated above (A1)"
   ]
  },
  {
   "cell_type": "code",
   "execution_count": 34,
   "metadata": {},
   "outputs": [],
   "source": [
    "Q1 = Generatedata(A1, B, 10000000)\n",
    "sw1 = Q1[1]\n",
    "on1 =[];\n",
    "off1 = [];\n",
    "for i in range(0, len(sw1)):\n",
    "    if i%2 > 0:\n",
    "        off1.append(sw1[i])\n",
    "    else:\n",
    "        on1.append(sw1[i])"
   ]
  },
  {
   "cell_type": "code",
   "execution_count": 35,
   "metadata": {},
   "outputs": [
    {
     "data": {
      "image/png": "[encoded data removed]",
      "text/plain": [
       "<matplotlib.figure.Figure at 0x1ae3315ee80>"
      ]
     },
     "metadata": {},
     "output_type": "display_data"
    }
   ],
   "source": [
    "plt.hist(sw1, bins = 150, color = 'b')\n",
    "plt.xlabel('Number of Consecutive Timesteps')\n",
    "plt.ylabel('Frequency')\n",
    "plt.show()"
   ]
  },
  {
   "cell_type": "code",
   "execution_count": 36,
   "metadata": {},
   "outputs": [
    {
     "data": {
      "text/plain": [
       "166.6472244904761"
      ]
     },
     "execution_count": 36,
     "metadata": {},
     "output_type": "execute_result"
    }
   ],
   "source": [
    "np.mean(sw1)"
   ]
  },
  {
   "cell_type": "code",
   "execution_count": 37,
   "metadata": {},
   "outputs": [
    {
     "data": {
      "text/plain": [
       "27644.12287058575"
      ]
     },
     "execution_count": 37,
     "metadata": {},
     "output_type": "execute_result"
    }
   ],
   "source": [
    "np.var(sw1)"
   ]
  },
  {
   "cell_type": "code",
   "execution_count": 38,
   "metadata": {},
   "outputs": [
    {
     "data": {
      "text/plain": [
       "array([[0],\n",
       "       [0],\n",
       "       [0],\n",
       "       ...,\n",
       "       [1],\n",
       "       [1],\n",
       "       [1]])"
      ]
     },
     "execution_count": 38,
     "metadata": {},
     "output_type": "execute_result"
    }
   ],
   "source": [
    "Output"
   ]
  },
  {
   "cell_type": "code",
   "execution_count": 30,
   "metadata": {},
   "outputs": [],
   "source": [
    "Output = [];\n",
    "for i in range(0,len(Q[0])):\n",
    "    Output.append([Q[0][i]])\n",
    "Output = np.asarray(Output)   "
   ]
  },
  {
   "cell_type": "code",
   "execution_count": 15,
   "metadata": {},
   "outputs": [
    {
     "data": {
      "text/plain": [
       "array([[0],\n",
       "       [0],\n",
       "       [0],\n",
       "       ...,\n",
       "       [0],\n",
       "       [0],\n",
       "       [0]])"
      ]
     },
     "execution_count": 15,
     "metadata": {},
     "output_type": "execute_result"
    }
   ],
   "source": [
    "Output"
   ]
  },
  {
   "cell_type": "code",
   "execution_count": 31,
   "metadata": {},
   "outputs": [
    {
     "data": {
      "text/plain": [
       "MultinomialHMM(algorithm='viterbi', init_params='st', n_components=4,\n",
       "        n_iter=1000, params='st',\n",
       "        random_state=<mtrand.RandomState object at 0x000001AE2FDE3CF0>,\n",
       "        startprob_prior=1.0, tol=0.01, transmat_prior=1.0, verbose=False)"
      ]
     },
     "execution_count": 31,
     "metadata": {},
     "output_type": "execute_result"
    }
   ],
   "source": [
    "learnmodel = hmm.MultinomialHMM(n_components=4, n_iter = 1000, init_params = \"st\", params = \"st\")\n",
    "learnmodel.emissionprob_ = B\n",
    "learnmodel.fit(Output, lengths=None)"
   ]
  },
  {
   "cell_type": "code",
   "execution_count": 32,
   "metadata": {},
   "outputs": [
    {
     "data": {
      "text/plain": [
       "array([[0.49701801, 0.00298199, 0.49701801, 0.00298199],\n",
       "       [0.00284043, 0.49715957, 0.00284043, 0.49715957],\n",
       "       [0.49701801, 0.00298199, 0.49701801, 0.00298199],\n",
       "       [0.00284043, 0.49715957, 0.00284043, 0.49715957]])"
      ]
     },
     "execution_count": 32,
     "metadata": {},
     "output_type": "execute_result"
    }
   ],
   "source": [
    "learnmodel.transmat_"
   ]
  },
  {
   "cell_type": "code",
   "execution_count": 19,
   "metadata": {},
   "outputs": [],
   "source": [
    "Q2 = Generatedata(A2, B, 10000000)\n",
    "sw2 = Q2[1]\n",
    "on2 =[];\n",
    "off2 = [];\n",
    "for i in range(0, len(sw2)):\n",
    "    if i%2 > 0:\n",
    "        off2.append(sw2[i])\n",
    "    else:\n",
    "        on2.append(sw2[i])"
   ]
  },
  {
   "cell_type": "code",
   "execution_count": 20,
   "metadata": {},
   "outputs": [
    {
     "data": {
      "image/png": "[encoded data removed]",
      "text/plain": [
       "<matplotlib.figure.Figure at 0x16e097c25f8>"
      ]
     },
     "metadata": {},
     "output_type": "display_data"
    }
   ],
   "source": [
    "plt.hist(sw2, bins = 150, color = 'b')\n",
    "plt.show()"
   ]
  },
  {
   "cell_type": "code",
   "execution_count": 21,
   "metadata": {},
   "outputs": [],
   "source": [
    "p2 = 1/np.mean(sw2)"
   ]
  },
  {
   "cell_type": "code",
   "execution_count": 22,
   "metadata": {},
   "outputs": [
    {
     "data": {
      "text/plain": [
       "32843.68935522825"
      ]
     },
     "execution_count": 22,
     "metadata": {},
     "output_type": "execute_result"
    }
   ],
   "source": [
    "(1-p2)/(p2**2)"
   ]
  },
  {
   "cell_type": "code",
   "execution_count": 23,
   "metadata": {},
   "outputs": [
    {
     "name": "stdout",
     "output_type": "stream",
     "text": [
      "32827.85708560989\n",
      "181.72896941501446\n"
     ]
    }
   ],
   "source": [
    "print(np.var(sw2))\n",
    "print(np.mean(sw2))"
   ]
  },
  {
   "cell_type": "markdown",
   "metadata": {},
   "source": [
    "# below we check if the distribution for T=A is a power law\n",
    "\n",
    "### It is not a power law"
   ]
  },
  {
   "cell_type": "code",
   "execution_count": 42,
   "metadata": {},
   "outputs": [
    {
     "name": "stdout",
     "output_type": "stream",
     "text": [
      "2.2411820405473595\n",
      "136.0\n"
     ]
    }
   ],
   "source": [
    "results = powerlaw.Fit(np.asarray(Q[1]), xmin=136, discrete=True)\n",
    "print(results.power_law.alpha)\n",
    "print(results.power_law.xmin)\n",
    "R, p = results.distribution_compare('power_law', 'lognormal')"
   ]
  },
  {
   "cell_type": "code",
   "execution_count": 43,
   "metadata": {},
   "outputs": [
    {
     "data": {
      "text/plain": [
       "-265.18326612622513"
      ]
     },
     "execution_count": 43,
     "metadata": {},
     "output_type": "execute_result"
    }
   ],
   "source": [
    "R"
   ]
  },
  {
   "cell_type": "code",
   "execution_count": 44,
   "metadata": {},
   "outputs": [
    {
     "data": {
      "text/plain": [
       "1.937256051664321e-64"
      ]
     },
     "execution_count": 44,
     "metadata": {},
     "output_type": "execute_result"
    }
   ],
   "source": [
    "p"
   ]
  },
  {
   "cell_type": "markdown",
   "metadata": {},
   "source": [
    "## We bias hmm.learn with random transition matrices to see the landscape of transition matrices that can explain a given sequence of observations"
   ]
  },
  {
   "cell_type": "code",
   "execution_count": 9,
   "metadata": {},
   "outputs": [
    {
     "ename": "KeyboardInterrupt",
     "evalue": "",
     "output_type": "error",
     "traceback": [
      "\u001b[1;31m---------------------------------------------------------------------------\u001b[0m",
      "\u001b[1;31mKeyboardInterrupt\u001b[0m                         Traceback (most recent call last)",
      "\u001b[1;32m<ipython-input-9-a0ccabd6d36a>\u001b[0m in \u001b[0;36m<module>\u001b[1;34m()\u001b[0m\n\u001b[0;32m      6\u001b[0m     \u001b[0mlalearnmodel\u001b[0m\u001b[1;33m.\u001b[0m\u001b[0mtransmat_\u001b[0m \u001b[1;33m=\u001b[0m \u001b[0mmatrix\u001b[0m\u001b[1;33m\u001b[0m\u001b[0m\n\u001b[0;32m      7\u001b[0m     \u001b[0mlalearnmodel\u001b[0m\u001b[1;33m.\u001b[0m\u001b[0memissionprob_\u001b[0m \u001b[1;33m=\u001b[0m \u001b[0mB\u001b[0m\u001b[1;33m\u001b[0m\u001b[0m\n\u001b[1;32m----> 8\u001b[1;33m     \u001b[0mlalearnmodel\u001b[0m\u001b[1;33m.\u001b[0m\u001b[0mfit\u001b[0m\u001b[1;33m(\u001b[0m\u001b[0mOutput\u001b[0m\u001b[1;33m,\u001b[0m \u001b[0mlengths\u001b[0m\u001b[1;33m=\u001b[0m\u001b[1;32mNone\u001b[0m\u001b[1;33m)\u001b[0m\u001b[1;33m\u001b[0m\u001b[0m\n\u001b[0m\u001b[0;32m      9\u001b[0m     \u001b[0mtransition_m\u001b[0m\u001b[1;33m.\u001b[0m\u001b[0mappend\u001b[0m\u001b[1;33m(\u001b[0m\u001b[0mlalearnmodel\u001b[0m\u001b[1;33m.\u001b[0m\u001b[0mtransmat_\u001b[0m\u001b[1;33m)\u001b[0m\u001b[1;33m\u001b[0m\u001b[0m\n",
      "\u001b[1;32m~\\AppData\\Roaming\\Python\\Python36\\site-packages\\hmmlearn\\base.py\u001b[0m in \u001b[0;36mfit\u001b[1;34m(self, X, lengths)\u001b[0m\n\u001b[0;32m    433\u001b[0m                 \u001b[0mlogprob\u001b[0m\u001b[1;33m,\u001b[0m \u001b[0mfwdlattice\u001b[0m \u001b[1;33m=\u001b[0m \u001b[0mself\u001b[0m\u001b[1;33m.\u001b[0m\u001b[0m_do_forward_pass\u001b[0m\u001b[1;33m(\u001b[0m\u001b[0mframelogprob\u001b[0m\u001b[1;33m)\u001b[0m\u001b[1;33m\u001b[0m\u001b[0m\n\u001b[0;32m    434\u001b[0m                 \u001b[0mcurr_logprob\u001b[0m \u001b[1;33m+=\u001b[0m \u001b[0mlogprob\u001b[0m\u001b[1;33m\u001b[0m\u001b[0m\n\u001b[1;32m--> 435\u001b[1;33m                 \u001b[0mbwdlattice\u001b[0m \u001b[1;33m=\u001b[0m \u001b[0mself\u001b[0m\u001b[1;33m.\u001b[0m\u001b[0m_do_backward_pass\u001b[0m\u001b[1;33m(\u001b[0m\u001b[0mframelogprob\u001b[0m\u001b[1;33m)\u001b[0m\u001b[1;33m\u001b[0m\u001b[0m\n\u001b[0m\u001b[0;32m    436\u001b[0m                 \u001b[0mposteriors\u001b[0m \u001b[1;33m=\u001b[0m \u001b[0mself\u001b[0m\u001b[1;33m.\u001b[0m\u001b[0m_compute_posteriors\u001b[0m\u001b[1;33m(\u001b[0m\u001b[0mfwdlattice\u001b[0m\u001b[1;33m,\u001b[0m \u001b[0mbwdlattice\u001b[0m\u001b[1;33m)\u001b[0m\u001b[1;33m\u001b[0m\u001b[0m\n\u001b[0;32m    437\u001b[0m                 self._accumulate_sufficient_statistics(\n",
      "\u001b[1;32m~\\AppData\\Roaming\\Python\\Python36\\site-packages\\hmmlearn\\base.py\u001b[0m in \u001b[0;36m_do_backward_pass\u001b[1;34m(self, framelogprob)\u001b[0m\n\u001b[0;32m    472\u001b[0m                         \u001b[0mlog_mask_zero\u001b[0m\u001b[1;33m(\u001b[0m\u001b[0mself\u001b[0m\u001b[1;33m.\u001b[0m\u001b[0mstartprob_\u001b[0m\u001b[1;33m)\u001b[0m\u001b[1;33m,\u001b[0m\u001b[1;33m\u001b[0m\u001b[0m\n\u001b[0;32m    473\u001b[0m                         \u001b[0mlog_mask_zero\u001b[0m\u001b[1;33m(\u001b[0m\u001b[0mself\u001b[0m\u001b[1;33m.\u001b[0m\u001b[0mtransmat_\u001b[0m\u001b[1;33m)\u001b[0m\u001b[1;33m,\u001b[0m\u001b[1;33m\u001b[0m\u001b[0m\n\u001b[1;32m--> 474\u001b[1;33m                         framelogprob, bwdlattice)\n\u001b[0m\u001b[0;32m    475\u001b[0m         \u001b[1;32mreturn\u001b[0m \u001b[0mbwdlattice\u001b[0m\u001b[1;33m\u001b[0m\u001b[0m\n\u001b[0;32m    476\u001b[0m \u001b[1;33m\u001b[0m\u001b[0m\n",
      "\u001b[1;31mKeyboardInterrupt\u001b[0m: "
     ]
    }
   ],
   "source": [
    "transition_m = [];\n",
    "for i in range(0, 100):\n",
    "    matrix = np.random.rand(4,4)\n",
    "    matrix = matrix/matrix.sum(axis=1)[:, None]\n",
    "    lalearnmodel = hmm.MultinomialHMM(n_components=4, n_iter = 150, init_params = \"s\", params = \"st\")\n",
    "    lalearnmodel.transmat_ = matrix\n",
    "    lalearnmodel.emissionprob_ = B\n",
    "    lalearnmodel.fit(Output, lengths=None)\n",
    "    transition_m.append(lalearnmodel.transmat_)"
   ]
  },
  {
   "cell_type": "code",
   "execution_count": 15,
   "metadata": {},
   "outputs": [
    {
     "data": {
      "text/plain": [
       "[array([[8.25054975e-01, 6.50938410e-04, 1.70639991e-01, 3.65409614e-03],\n",
       "        [1.76675887e-03, 2.55360081e-01, 8.65365346e-04, 7.42007794e-01],\n",
       "        [8.59437547e-01, 8.33971647e-04, 1.29993849e-01, 9.73463174e-03],\n",
       "        [1.88895713e-04, 8.48759651e-01, 8.06071387e-03, 1.42990739e-01]]),\n",
       " array([[7.52243388e-01, 2.21130973e-03, 2.45274987e-01, 2.70315650e-04],\n",
       "        [2.98516868e-03, 1.25514677e-01, 1.18471175e-02, 8.59653037e-01],\n",
       "        [3.73688325e-01, 3.39881456e-03, 6.16583398e-01, 6.32946267e-03],\n",
       "        [3.86112930e-04, 3.06084210e-01, 1.47762647e-03, 6.92052050e-01]]),\n",
       " array([[4.20072897e-01, 5.38990827e-03, 5.71971881e-01, 2.56531344e-03],\n",
       "        [1.70266865e-03, 7.05707888e-01, 4.88587106e-04, 2.92100857e-01],\n",
       "        [4.38847535e-01, 8.08930385e-04, 5.57792840e-01, 2.55069553e-03],\n",
       "        [1.01722063e-02, 7.39877146e-01, 2.88668006e-03, 2.47063968e-01]]),\n",
       " array([[3.11916477e-01, 5.31959253e-03, 6.77770157e-01, 4.99377403e-03],\n",
       "        [1.01495460e-02, 2.26288357e-01, 6.67074988e-03, 7.56891347e-01],\n",
       "        [4.55098192e-01, 7.85638447e-04, 5.42869931e-01, 1.24623808e-03],\n",
       "        [2.61794199e-03, 1.66094032e-01, 1.07712679e-04, 8.31180313e-01]]),\n",
       " array([[7.07366125e-01, 2.25152068e-03, 2.88724025e-01, 1.65832916e-03],\n",
       "        [1.94217863e-04, 8.24624182e-01, 3.60979106e-03, 1.71571809e-01],\n",
       "        [9.36991393e-01, 2.80583336e-03, 5.29794317e-02, 7.22334233e-03],\n",
       "        [9.29436315e-03, 9.43263217e-01, 3.88965195e-03, 4.35527683e-02]]),\n",
       " array([[0.85171954, 0.002627  , 0.14428989, 0.00136356],\n",
       "        [0.00208921, 0.54013268, 0.00549964, 0.45227846],\n",
       "        [0.81934051, 0.00616312, 0.1676151 , 0.00688127],\n",
       "        [0.00209403, 0.3220709 , 0.00149946, 0.67433561]]),\n",
       " array([[6.99508297e-01, 6.98063487e-03, 2.90626193e-01, 2.88487486e-03],\n",
       "        [7.08934019e-03, 1.24220266e-01, 2.86595937e-03, 8.65824434e-01],\n",
       "        [1.21370417e-01, 1.89948309e-03, 8.75168340e-01, 1.56176009e-03],\n",
       "        [8.40671631e-04, 6.45329991e-01, 9.19561300e-04, 3.52909776e-01]]),\n",
       " array([[3.82648962e-01, 6.39977517e-03, 6.06681015e-01, 4.27024797e-03],\n",
       "        [3.45498214e-03, 8.98056112e-01, 4.09657370e-04, 9.80792488e-02],\n",
       "        [2.97096426e-01, 9.81976141e-04, 7.00151167e-01, 1.77043119e-03],\n",
       "        [6.07665563e-03, 7.29175912e-01, 9.43274652e-03, 2.55314686e-01]]),\n",
       " array([[2.11795449e-01, 1.98427730e-03, 7.86169669e-01, 5.06046329e-05],\n",
       "        [4.92202560e-03, 3.13236040e-01, 3.36135621e-03, 6.78480578e-01],\n",
       "        [8.09235452e-01, 6.00722827e-03, 1.81975218e-01, 2.78210188e-03],\n",
       "        [9.08696533e-04, 3.30240717e-01, 2.86449344e-03, 6.65986093e-01]]),\n",
       " array([[2.42935914e-01, 6.76004024e-03, 7.43002382e-01, 7.30166423e-03],\n",
       "        [2.31494072e-03, 8.98547661e-01, 1.79552696e-03, 9.73418712e-02],\n",
       "        [3.04885799e-01, 7.30911686e-04, 6.93296524e-01, 1.08676447e-03],\n",
       "        [8.07225440e-04, 7.31163809e-01, 1.29263466e-02, 2.55102619e-01]]),\n",
       " array([[6.77755448e-01, 2.39224649e-03, 3.17897927e-01, 1.95437852e-03],\n",
       "        [4.56254289e-04, 8.47250381e-02, 9.02691886e-03, 9.05791789e-01],\n",
       "        [9.45819906e-01, 6.77705444e-03, 4.58490558e-02, 1.55398344e-03],\n",
       "        [2.63712630e-04, 7.31453228e-01, 1.58356317e-03, 2.66699496e-01]]),\n",
       " array([[1.62619789e-02, 2.52843105e-02, 9.31449370e-01, 2.70043406e-02],\n",
       "        [6.91381612e-04, 7.29240478e-01, 2.57581895e-03, 2.67492322e-01],\n",
       "        [6.53566576e-02, 9.42331544e-04, 9.32446878e-01, 1.25413236e-03],\n",
       "        [1.22079823e-03, 6.80650511e-01, 9.09443346e-03, 3.09034258e-01]]),\n",
       " array([[9.87789459e-01, 3.28779202e-03, 7.58542038e-03, 1.33732899e-03],\n",
       "        [8.95834783e-04, 6.86737687e-01, 3.00410171e-03, 3.09362376e-01],\n",
       "        [1.59295917e-01, 3.81656425e-03, 8.24168448e-01, 1.27190703e-02],\n",
       "        [3.75558167e-03, 8.99438766e-01, 5.44507952e-03, 9.13605729e-02]]),\n",
       " array([[1.96622501e-01, 5.01787348e-03, 7.87404183e-01, 1.09554428e-02],\n",
       "        [1.83720225e-03, 6.01497336e-01, 4.89157852e-04, 3.96176304e-01],\n",
       "        [4.15817064e-02, 1.91543561e-03, 9.53661772e-01, 2.84108556e-03],\n",
       "        [7.06193650e-03, 7.38991553e-01, 3.66697124e-03, 2.50279539e-01]]),\n",
       " array([[5.32805596e-01, 3.78968492e-03, 4.63189318e-01, 2.15401335e-04],\n",
       "        [5.83759757e-03, 5.01040343e-01, 1.75784676e-03, 4.91364212e-01],\n",
       "        [8.08371135e-01, 7.31003581e-03, 1.83902591e-01, 4.16237805e-04],\n",
       "        [1.07010343e-03, 4.50724709e-01, 2.02581884e-03, 5.46179368e-01]]),\n",
       " array([[7.61993673e-01, 1.98149881e-04, 2.36274285e-01, 1.53389236e-03],\n",
       "        [3.73779810e-02, 4.94589824e-01, 3.45098021e-02, 4.33522393e-01],\n",
       "        [8.73377219e-01, 3.00799036e-03, 1.07763869e-01, 1.58509218e-02],\n",
       "        [8.42966889e-04, 2.56131156e-02, 9.27293765e-04, 9.72616624e-01]]),\n",
       " array([[5.56596005e-01, 8.77490539e-03, 4.29872576e-01, 4.75651319e-03],\n",
       "        [6.07083242e-03, 6.40082766e-01, 5.71094819e-03, 3.48135454e-01],\n",
       "        [1.49206221e-01, 2.40745936e-03, 8.48260651e-01, 1.25668390e-04],\n",
       "        [1.26870037e-03, 1.87329557e-01, 4.78656409e-04, 8.10923086e-01]]),\n",
       " array([[6.98553630e-01, 1.73903420e-03, 2.99672692e-01, 3.46435521e-05],\n",
       "        [6.57677700e-03, 6.10283555e-01, 1.12682010e-02, 3.71871467e-01],\n",
       "        [6.65960519e-01, 6.30656488e-03, 3.20686697e-01, 7.04621884e-03],\n",
       "        [9.44321198e-04, 8.02401007e-02, 1.59702268e-03, 9.17218555e-01]]),\n",
       " array([[6.18590919e-01, 1.40254601e-03, 3.77186147e-01, 2.82038811e-03],\n",
       "        [4.36905318e-03, 1.43121491e-01, 8.48679843e-03, 8.44022657e-01],\n",
       "        [3.72091818e-01, 3.63927370e-03, 6.21426855e-01, 2.84205358e-03],\n",
       "        [2.03895256e-03, 2.91754424e-01, 5.98483176e-04, 7.05608141e-01]]),\n",
       " array([[0.13602243, 0.00619291, 0.85506649, 0.00271817],\n",
       "        [0.00096962, 0.8063412 , 0.00140773, 0.19128145],\n",
       "        [0.4821081 , 0.00149564, 0.51453256, 0.00186369],\n",
       "        [0.00982739, 0.94402359, 0.00973235, 0.03641667]]),\n",
       " array([[9.89365963e-01, 4.67332188e-03, 5.78343419e-03, 1.77281072e-04],\n",
       "        [2.60244320e-03, 9.89841847e-01, 5.14147619e-05, 7.50429465e-03],\n",
       "        [6.21106667e-01, 1.34428364e-02, 3.21787852e-01, 4.36626447e-02],\n",
       "        [6.31721900e-02, 1.73563433e-01, 2.65083602e-02, 7.36756017e-01]]),\n",
       " array([[5.40141546e-01, 5.88958431e-03, 4.49183417e-01, 4.78545267e-03],\n",
       "        [2.30427637e-03, 7.28722460e-01, 3.16697338e-03, 2.65806290e-01],\n",
       "        [2.10647895e-01, 1.68432964e-03, 7.86483985e-01, 1.18379093e-03],\n",
       "        [4.59638754e-03, 4.64493091e-01, 2.81782964e-04, 5.30628738e-01]]),\n",
       " array([[4.23046674e-02, 5.54877108e-03, 9.39836224e-01, 1.23103372e-02],\n",
       "        [1.69878631e-03, 7.94255754e-01, 1.55626422e-03, 2.02489196e-01],\n",
       "        [2.07021902e-01, 8.16836191e-05, 7.90355686e-01, 2.54072826e-03],\n",
       "        [3.07709398e-03, 5.89446575e-01, 7.94693424e-03, 3.99529397e-01]]),\n",
       " array([[1.35610985e-01, 6.38783850e-04, 8.60311062e-01, 3.43917000e-03],\n",
       "        [2.23402722e-03, 3.05648781e-01, 6.65141783e-04, 6.91452050e-01],\n",
       "        [8.53499491e-01, 2.87793834e-03, 1.39868442e-01, 3.75412861e-03],\n",
       "        [4.33182470e-03, 6.16608640e-01, 3.02627973e-03, 3.76033256e-01]]),\n",
       " array([[9.12309225e-01, 6.47918597e-04, 8.36260703e-02, 3.41678587e-03],\n",
       "        [2.10836102e-03, 5.42442264e-01, 1.46319879e-03, 4.53986176e-01],\n",
       "        [4.95944871e-01, 5.36171042e-04, 4.91031700e-01, 1.24872576e-02],\n",
       "        [4.87488437e-03, 5.45546461e-01, 2.39223077e-03, 4.47186424e-01]]),\n",
       " array([[6.47850438e-01, 6.66205989e-04, 3.49726528e-01, 1.75682837e-03],\n",
       "        [2.56105745e-03, 9.47000339e-01, 1.96990603e-03, 4.84686976e-02],\n",
       "        [8.76410300e-01, 2.95216110e-03, 1.10837839e-01, 9.79969979e-03],\n",
       "        [8.30201150e-03, 6.43013847e-01, 5.97424463e-03, 3.42709897e-01]]),\n",
       " array([[3.58666417e-01, 3.66306488e-03, 6.36855420e-01, 8.15097792e-04],\n",
       "        [1.08090139e-03, 9.37367298e-01, 2.12256360e-03, 5.94292373e-02],\n",
       "        [4.95475530e-01, 4.81337000e-03, 4.98480772e-01, 1.23032750e-03],\n",
       "        [2.30142839e-02, 9.32491344e-01, 1.51428693e-02, 2.93515024e-02]]),\n",
       " array([[4.89882358e-02, 3.88950564e-03, 9.42910167e-01, 4.21209140e-03],\n",
       "        [2.59829112e-03, 5.57980801e-01, 2.56955466e-04, 4.39163952e-01],\n",
       "        [5.15198363e-01, 1.77922153e-03, 4.80941590e-01, 2.08082586e-03],\n",
       "        [2.53429092e-03, 7.06962252e-01, 6.59392771e-03, 2.83909530e-01]]),\n",
       " array([[1.92038987e-01, 4.71708064e-03, 8.00636174e-01, 2.60775825e-03],\n",
       "        [8.30163027e-04, 3.39743092e-01, 4.21196854e-03, 6.55214777e-01],\n",
       "        [8.26819489e-01, 7.32676984e-04, 1.69847495e-01, 2.60033949e-03],\n",
       "        [3.78207174e-03, 5.42218627e-01, 1.64928609e-03, 4.52350015e-01]]),\n",
       " array([[5.98303327e-01, 1.03858896e-03, 4.00249176e-01, 4.08907797e-04],\n",
       "        [9.85899053e-04, 7.99548303e-01, 7.33339202e-04, 1.98732459e-01],\n",
       "        [5.41785164e-01, 4.29563323e-03, 4.47543528e-01, 6.37567398e-03],\n",
       "        [3.67664699e-03, 5.86020219e-01, 1.20812326e-02, 3.98221901e-01]]),\n",
       " array([[1.40507673e-01, 3.02847917e-03, 8.55162382e-01, 1.30146617e-03],\n",
       "        [7.16346081e-04, 3.38276370e-01, 1.01697841e-02, 6.50837500e-01],\n",
       "        [4.84007826e-01, 3.32772007e-03, 5.10052134e-01, 2.61231996e-03],\n",
       "        [1.93568123e-03, 2.50267499e-01, 1.15234780e-03, 7.46644472e-01]]),\n",
       " array([[0.55249683, 0.00181658, 0.44463587, 0.00105072],\n",
       "        [0.00181957, 0.27323945, 0.00446808, 0.72047289],\n",
       "        [0.55177728, 0.00312105, 0.43976469, 0.00533698],\n",
       "        [0.00262178, 0.57270392, 0.00181343, 0.42286087]]),\n",
       " array([[8.93642315e-01, 1.91781090e-03, 1.03179662e-01, 1.26021186e-03],\n",
       "        [3.33455018e-03, 1.79624323e-01, 3.50646418e-03, 8.13534663e-01],\n",
       "        [4.80993842e-01, 8.55176972e-03, 5.03653172e-01, 6.80121583e-03],\n",
       "        [1.15133046e-05, 4.31929972e-01, 4.39938389e-03, 5.63659130e-01]]),\n",
       " array([[6.56397819e-01, 3.25931439e-03, 3.36592321e-01, 3.75054501e-03],\n",
       "        [2.79562443e-03, 4.76976200e-01, 6.16519434e-04, 5.19611656e-01],\n",
       "        [8.03956737e-01, 1.06127104e-03, 1.94617178e-01, 3.64814109e-04],\n",
       "        [6.18531724e-03, 8.87035855e-01, 2.21947967e-03, 1.04559348e-01]]),\n",
       " array([[0.26866199, 0.00528265, 0.72095678, 0.00509859],\n",
       "        [0.00498041, 0.23117421, 0.00422311, 0.75962227],\n",
       "        [0.23701717, 0.00266185, 0.7592763 , 0.00104468],\n",
       "        [0.00103094, 0.46598216, 0.00180394, 0.53118296]]),\n",
       " array([[0.67782376, 0.00303938, 0.31357206, 0.0055648 ],\n",
       "        [0.00794713, 0.39105549, 0.00083437, 0.60016302],\n",
       "        [0.28472682, 0.00136692, 0.71286608, 0.00104019],\n",
       "        [0.00194944, 0.35906856, 0.0012065 , 0.63777551]])]"
      ]
     },
     "execution_count": 15,
     "metadata": {},
     "output_type": "execute_result"
    }
   ],
   "source": [
    "transition_m"
   ]
  },
  {
   "cell_type": "code",
   "execution_count": null,
   "metadata": {},
   "outputs": [],
   "source": []
  }
 ],
 "metadata": {
  "kernelspec": {
   "display_name": "Python 3",
   "language": "python",
   "name": "python3"
  },
  "language_info": {
   "codemirror_mode": {
    "name": "ipython",
    "version": 3
   },
   "file_extension": ".py",
   "mimetype": "text/x-python",
   "name": "python",
   "nbconvert_exporter": "python",
   "pygments_lexer": "ipython3",
   "version": "3.6.2"
  }
 },
 "nbformat": 4,
 "nbformat_minor": 2
}
