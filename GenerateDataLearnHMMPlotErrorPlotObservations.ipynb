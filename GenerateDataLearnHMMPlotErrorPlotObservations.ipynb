{
 "cells": [
  {
   "cell_type": "markdown",
   "metadata": {},
   "source": [
    "In this notebook we;\n",
    "\n",
    "1) Generate our own sequence of observations without the use of the hmm.learn package\n",
    "\n",
    "2) We use the hmm.learn package to attempt to learn the transition matrix that was used to generate the data \n",
    "   \n",
    "- We use the same transition matrix and many different emission matrices\n",
    "\n",
    "Emission matrix type:\n",
    "\n",
    "    -> 4 observation- deterministic\n",
    "    \n",
    "    -> 3 Observation- deterministic- degenerate\n",
    "    \n",
    "    -> 3 observations- stochastic \n",
    "    \n",
    "    -> 2 Observations- deterministic - doubly degenerate\n",
    "\n",
    "-nmdks"
   ]
  },
  {
   "cell_type": "code",
   "execution_count": 1,
   "metadata": {},
   "outputs": [],
   "source": [
    "import numpy as np\n",
    "import random\n",
    "import matplotlib.pyplot as plt\n",
    "from hmmlearn import hmm\n",
    "import sys\n",
    "import warnings\n",
    "\n",
    "if not sys.warnoptions:\n",
    "    warnings.simplefilter(\"ignore\")"
   ]
  },
  {
   "cell_type": "code",
   "execution_count": 21,
   "metadata": {},
   "outputs": [],
   "source": [
    "# Transition Matrices\n",
    "\n",
    "A = np.array([[0.99, 0.01, 0, 0],\n",
    "              [0.01, 0.9899, 0, 0.0001],\n",
    "              [0, 0, 0.999, 0.001],\n",
    "              [0, 0.0001, 0.001, 0.9989]]);\n",
    "\n",
    "A1 = np.array([[0.99, 0.01, 0, 0],\n",
    "              [0.01, 0.98999, 0, 0.0001],\n",
    "              [0, 0, 0.99999, 0.00001],\n",
    "              [0, 0.0001, 0.00001, 0.99989]]);\n",
    "\n",
    "A2 = np.array([[0.8, 0.2, 0, 0],\n",
    "              [0.2, 0.7999, 0, 0.0001],\n",
    "              [0, 0, 0.999, 0.001],\n",
    "              [0, 0.0001, 0.001, 0.9989]]);\n",
    "\n",
    "A3 = np.array([[0.9, 0.1, 0, 0],\n",
    "              [0.1, 0.89999, 0, 0.00001],\n",
    "              [0, 0, 0.9999, 0.0001],\n",
    "              [0, 0.00001, 0.0001, 0.99989]]);\n",
    "\n",
    "A4 = np.array([[0.9, 0.1, 0, 0],\n",
    "              [0.1, 0.89, 0, 0.01],\n",
    "              [0, 0, 0.999, 0.001],\n",
    "              [0, 0.01, 0.001, 0.989]]);\n",
    "\n",
    "\n",
    "\n",
    "\n",
    "# Emission Matrices\n",
    "B = np.array([[1, 0, 0, 0],\n",
    "              [0, 1, 0, 0],\n",
    "              [0, 0, 1, 0],\n",
    "              [0, 0, 0, 1]]);\n",
    "\n",
    "C = np.array([[1, 0, 0],\n",
    "              [0, 1, 0],\n",
    "              [1, 0, 0],\n",
    "              [0, 0, 1]]);\n",
    "\n",
    "C2 = np.array([[0.3, 0.6, 0.1],\n",
    "              [0.1, 0.4, 0.5],\n",
    "              [0, 0.2, 0.8],\n",
    "              [0.9, 0.1, 0]]);\n",
    "\n",
    "D = np.array([[1, 0],\n",
    "              [0, 1],\n",
    "              [1, 0],\n",
    "              [0, 1]]);\n",
    "\n",
    "D2 = np.array([[0.35, 0.65],\n",
    "              [0.8, 0.2],\n",
    "              [0.99, 0.01],\n",
    "              [0.73, 0.27]]);\n"
   ]
  },
  {
   "cell_type": "markdown",
   "metadata": {},
   "source": [
    "Below is the function used to generate the sequence of observations\n",
    "\n",
    "It requires:\n",
    "\n",
    "1) A transition matrix for walking through the hidden states\n",
    "\n",
    "2) An emission matrix in order to determine which observation is given rise to for each step through hidden state space\n",
    "\n",
    "3) number_observations tells the function how many steps through hidden state space/ observations the function will output"
   ]
  },
  {
   "cell_type": "code",
   "execution_count": 4,
   "metadata": {},
   "outputs": [],
   "source": [
    "# T is Transition matrix & E is emission matrix \n",
    "def Generatedata(T, E, number_observations):\n",
    "    # we initialize and empty list in order to store our sequence of observations\n",
    "    Observations = [];\n",
    "    State = 0;\n",
    "    Prob_nextstate = 0;\n",
    "    Prob_currentobs =0;\n",
    "    # First we choose an observation given that we are in state 0\n",
    "    current_observation = random.uniform(0, 1);\n",
    "    for o_state in range(0, E.shape[1]):\n",
    "        Prob_currentobs = Prob_currentobs + E[State, o_state]\n",
    "        #Prob_currentobs = 0;\n",
    "        if current_observation <= Prob_currentobs:\n",
    "            Observations.append(o_state)\n",
    "            Prob_currentobs = 0;\n",
    "            break\n",
    "    # after appending the first observation we choose the next state\n",
    "    for time_step in range(0, number_observations-1):\n",
    "        next_state = random.uniform(0, 1);\n",
    "        #Prob_nextstate =0;\n",
    "        for i_next_state in range(0,T.shape[1]):\n",
    "            Prob_nextstate = Prob_nextstate + T[State, i_next_state];\n",
    "            if next_state <= Prob_nextstate:\n",
    "                State = i_next_state;\n",
    "                Prob_nextstate =0;\n",
    "                # we have chosen the next state so we choose and observation and append it to our list\n",
    "                current_observation = random.uniform(0, 1);\n",
    "                for o_current_observation in range(0, E.shape[1]):\n",
    "                    Prob_currentobs = Prob_currentobs + E[State, o_current_observation]\n",
    "                    # Prob_currentobs = 0;\n",
    "                    if current_observation <= Prob_currentobs:\n",
    "                        Observations.append(o_current_observation)\n",
    "                        Prob_currentobs = 0;\n",
    "                        break\n",
    "                break\n",
    "            \n",
    "    return Observations,"
   ]
  },
  {
   "cell_type": "code",
   "execution_count": 8,
   "metadata": {},
   "outputs": [],
   "source": [
    "# Creates plot of observed sequences generated by our data generator\n",
    "def PlotObservations(List_list_Observations, iterations, number_samples): \n",
    "    time_list=[];\n",
    "    List_time_list=[];\n",
    "    # Each sample size is repeated n = iterations number of times. We are only plotting 1 example of each sample size\n",
    "    for plot in range(0, number_samples):\n",
    "        plot_index = plot*iterations\n",
    "        # we generate a time series to correspond to our list of observations\n",
    "        for i in range(0,len(List_list_Observations[plot_index][0])):\n",
    "            time_list.append(i)\n",
    "        #we create a list of time lists.\n",
    "        List_time_list.append(time_list)\n",
    "        time_list=[];\n",
    "    #We beging plotting each of the \n",
    "    f, axarr = plt.subplots(number_samples,  1 , sharey=True, figsize=(20,20))\n",
    "    f.suptitle('Plotting observations over time step')\n",
    "    for i in range(0, number_samples):\n",
    "        plot_index = i*iterations\n",
    "        axarr[i].scatter(np.asarray(List_time_list[i]), List_list_Observations[plot_index][0],0.1, marker='o')\n",
    "    \n",
    "    plt.show()\n",
    "    plt.close('all')    \n",
    "    return\n"
   ]
  },
  {
   "cell_type": "markdown",
   "metadata": {},
   "source": [
    "Below we begin to see if the correct transition matrix can be learned using the hmm.learn package when it is initialized with the correct Emission Matrix. We begin with the \"Markov\" Case, meaning the emission matrix is deterministic, all hidden states have 100% chance of giving rise to a single observation, and each hidden state gives rise to a unique observation. It is essentially a normal markov model not a \"hidden\" markov model since none of the \"hidden\" states are truly hidden.\n",
    "\n",
    "We find that the package learns these matrices decently well"
   ]
  },
  {
   "cell_type": "markdown",
   "metadata": {},
   "source": [
    "# We fit HMM to the 4 observation case using transition A and Emission B"
   ]
  },
  {
   "cell_type": "code",
   "execution_count": 8,
   "metadata": {},
   "outputs": [],
   "source": [
    "# We store 2 values: [1] the sample_size, number of observations generated (x-axis), and [2] the absolute difference between the transition matrix used to generate the sequence of observations and the transitionmatrix learned by the package. \n",
    "# The absolute difference between the 2 transition matrices is used as the first step in determining wether or not the package was able to learn the correct transition matrix\n",
    "data_store_x1 =[];\n",
    "data_store_y1 =[];\n",
    "# we save the transition matrices learned by the package in this list\n",
    "transition_matrices1=[];\n",
    "# iterations determines how many times a sequence of observations of length \"sample_size\" is created and learned by the package\n",
    "iterations = 5;\n",
    "sample_size = [50000, 100000, 250000, 500000, 750000];\n",
    "for i in enumerate(sample_size):\n",
    "    for o in range(0,iterations):\n",
    "        Output=np.asarray(Generatedata(A, B, i[1]))\n",
    "        learnmodel = hmm.MultinomialHMM(n_components=4, n_iter = 400, init_params = \"st\", params = \"st\")\n",
    "        learnmodel.emissionprob_ = B\n",
    "        learnmodel.fit(Output, lengths=None)\n",
    "        Error = np.sum(np.absolute(A -learnmodel.transmat_))\n",
    "        data_store_y1.append(Error)\n",
    "        data_store_x1.append(i[1])\n",
    "        transition_matrices1.append(learnmodel.transmat_)"
   ]
  },
  {
   "cell_type": "code",
   "execution_count": 9,
   "metadata": {},
   "outputs": [
    {
     "data": {
      "image/png": "[encoded data removed]",
      "text/plain": [
       "<matplotlib.figure.Figure at 0x244cf1e8438>"
      ]
     },
     "metadata": {},
     "output_type": "display_data"
    }
   ],
   "source": [
    "plt.scatter(data_store_x1, data_store_y1)\n",
    "plt.xlabel('Number of Samples')\n",
    "plt.ylabel('Absolute Error')\n",
    "plt.show()"
   ]
  },
  {
   "cell_type": "code",
   "execution_count": 12,
   "metadata": {},
   "outputs": [
    {
     "data": {
      "text/plain": [
       "array([[9.912e-01, 8.800e-03, 0.000e+00, 0.000e+00],\n",
       "       [9.700e-03, 9.903e-01, 0.000e+00, 1.000e-04],\n",
       "       [0.000e+00, 0.000e+00, 9.991e-01, 9.000e-04],\n",
       "       [0.000e+00, 1.000e-04, 9.000e-04, 9.990e-01]])"
      ]
     },
     "execution_count": 12,
     "metadata": {},
     "output_type": "execute_result"
    }
   ],
   "source": [
    "# Below is one of the transition matrices learned. Compare it to transition matrix A which was used to generate the sequence of observations\n",
    "np.round(transition_matrices1[1], decimals=4)\n"
   ]
  },
  {
   "cell_type": "markdown",
   "metadata": {},
   "source": [
    "Below we attempt to learn the HMM using three observations instead of four observations\n",
    "\n",
    "The system is now degenerate -> two hidden states give rise to the same observation\n",
    "\n",
    "the system is still deterministic -> each hidden state gives rise to a single observation 100% of the time"
   ]
  },
  {
   "cell_type": "markdown",
   "metadata": {},
   "source": [
    "# We fit HMM to the 3 observation case using transition A and Emission C"
   ]
  },
  {
   "cell_type": "code",
   "execution_count": 22,
   "metadata": {},
   "outputs": [],
   "source": [
    "data_store_x2 =[];\n",
    "data_store_y2 =[];\n",
    "transition_matrices2=[];\n",
    "iterations = 5;\n",
    "sample_size = [100000, 250000, 500000];\n",
    "for i in enumerate(sample_size):\n",
    "    for o in range(0,iterations):\n",
    "        Output=np.asarray(Generatedata(A, C, i[1]))\n",
    "        learnmodel2 = hmm.MultinomialHMM(n_components=4, n_iter = 400, init_params = \"st\", params = \"st\")\n",
    "        learnmodel2.emissionprob_ = C\n",
    "        learnmodel2.fit(Output, lengths=None)\n",
    "        Error = np.sum(np.absolute(A -learnmodel2.transmat_))\n",
    "        data_store_y2.append(Error)\n",
    "        data_store_x2.append(i[1])\n",
    "        transition_matrices2.append(learnmodel2.transmat_)"
   ]
  },
  {
   "cell_type": "code",
   "execution_count": 23,
   "metadata": {},
   "outputs": [
    {
     "data": {
      "image/png": "[encoded data removed]",
      "text/plain": [
       "<matplotlib.figure.Figure at 0x244cf5c15f8>"
      ]
     },
     "metadata": {},
     "output_type": "display_data"
    }
   ],
   "source": [
    "plt.scatter(data_store_x2, data_store_y2)\n",
    "plt.show()"
   ]
  },
  {
   "cell_type": "code",
   "execution_count": null,
   "metadata": {},
   "outputs": [],
   "source": [
    "np.round(transition_matrices1[1], decimals=4)"
   ]
  },
  {
   "cell_type": "markdown",
   "metadata": {},
   "source": [
    "# We fit HMM to the 3 observation case using transition A and Emission C2"
   ]
  },
  {
   "cell_type": "code",
   "execution_count": null,
   "metadata": {},
   "outputs": [],
   "source": [
    "data_store_x3 =[];\n",
    "data_store_y3 =[];\n",
    "transition_matrices3=[];\n",
    "iterations = 5;\n",
    "sample_size = [50000, 100000, 250000, 500000, 1000000];\n",
    "for i in enumerate(sample_size):\n",
    "    for o in range(0,iterations):\n",
    "        Output=np.asarray(Generatedata(A, C2, i[1]))\n",
    "        learnmodel3 = hmm.MultinomialHMM(n_components=4, n_iter = 400, init_params = \"st\", params = \"st\")\n",
    "        learnmodel3.emissionprob_ = C\n",
    "        learnmodel3.fit(Output, lengths=None)\n",
    "        Error = np.sum(np.absolute(A -learnmodel3.transmat_))\n",
    "        data_store_y3.append(Error)\n",
    "        data_store_x3.append(i[1])\n",
    "        transition_matrices3.append(learnmodel3.transmat_)"
   ]
  },
  {
   "cell_type": "code",
   "execution_count": 16,
   "metadata": {},
   "outputs": [
    {
     "data": {
      "image/png": "[encoded data removed]",
      "text/plain": [
       "<matplotlib.figure.Figure at 0x244cf1e8e48>"
      ]
     },
     "metadata": {},
     "output_type": "display_data"
    }
   ],
   "source": [
    "g = plt.scatter(data_store_x3, data_store_y3)\n",
    "plt.show()"
   ]
  },
  {
   "cell_type": "markdown",
   "metadata": {},
   "source": [
    "Above we see that the package fails to properly learn the correct transition matrix essentially everytime for the degenerate/deterministic case. However, we see that the model works somtimes for the stochastic/degenerate case.\n",
    "\n",
    "Below we attempt to learn the HMM using two observations instead of four\n",
    "\n",
    "the system is now doubly degenrate -> there are now 2 groups of 2 hidden states, the hidden states in each group give rise to the same observation.\n",
    "\n",
    "the system is still deterministic -> each hidden state gives rise to a single observation 100% of the time"
   ]
  },
  {
   "cell_type": "markdown",
   "metadata": {},
   "source": [
    "# We fit HMM to the 2 observation case using transition A and Emission D"
   ]
  },
  {
   "cell_type": "code",
   "execution_count": 41,
   "metadata": {},
   "outputs": [],
   "source": [
    "data_store_x4 =[];\n",
    "data_store_y4 =[];\n",
    "transition_matrices4=[];\n",
    "iterations = 5;\n",
    "sample_size = [50000, 100000, 250000, 500000, 1000000];\n",
    "for i in enumerate(sample_size):\n",
    "    for o in range(0,iterations):\n",
    "        Output=np.asarray(Generatedata(A, D, i[1]))\n",
    "        learnmodel4 = hmm.MultinomialHMM(n_components=4, n_iter = 400, init_params = \"st\", params = \"st\")\n",
    "        learnmodel4.emissionprob_ = D\n",
    "        learnmodel4.fit(Output, lengths=None)\n",
    "        Error = np.sum(np.absolute(A -learnmodel4.transmat_))\n",
    "        data_store_y4.append(Error)\n",
    "        data_store_x4.append(i[1])\n",
    "        transition_matrices3.append(learnmodel4.transmat_)"
   ]
  },
  {
   "cell_type": "code",
   "execution_count": 58,
   "metadata": {},
   "outputs": [
    {
     "data": {
      "image/png": "[encoded data removed]",
      "text/plain": [
       "<matplotlib.figure.Figure at 0x1f28dd02518>"
      ]
     },
     "metadata": {},
     "output_type": "display_data"
    },
    {
     "data": {
      "image/png": "[encoded data removed]",
      "text/plain": [
       "<matplotlib.figure.Figure at 0x1f28d8a8e48>"
      ]
     },
     "metadata": {},
     "output_type": "display_data"
    }
   ],
   "source": [
    "plt.scatter(data_store_x4, data_store_y4)\n",
    "plt.show()"
   ]
  },
  {
   "cell_type": "markdown",
   "metadata": {},
   "source": [
    "# We fit HMM to the 2 observation case using transition A2 and Emission D\n",
    "## A2 is a transition matrix with a more extreme difference between k_fast & k_slow\n"
   ]
  },
  {
   "cell_type": "code",
   "execution_count": 64,
   "metadata": {},
   "outputs": [],
   "source": [
    "data_store_x5 =[];\n",
    "data_store_y5 =[];\n",
    "transition_matrices5=[];\n",
    "iterations = 5;\n",
    "sample_size = [50000, 250000, 10000000];\n",
    "for i in enumerate(sample_size):\n",
    "    for o in range(0,iterations):\n",
    "        Output=np.asarray(Generatedata(A2, D, i[1]))\n",
    "        learnmodel5 = hmm.MultinomialHMM(n_components=4, n_iter = 400, init_params = \"st\", params = \"st\")\n",
    "        learnmodel5.emissionprob_ = D\n",
    "        learnmodel5.fit(Output, lengths=None)\n",
    "        Error = np.sum(np.absolute(A2 -learnmodel5.transmat_))\n",
    "        data_store_y5.append(Error)\n",
    "        data_store_x5.append(i[1])\n",
    "        transition_matrices5.append(learnmodel5.transmat_)"
   ]
  },
  {
   "cell_type": "code",
   "execution_count": 65,
   "metadata": {},
   "outputs": [
    {
     "data": {
      "image/png": "[encoded data removed]",
      "text/plain": [
       "<matplotlib.figure.Figure at 0x1f2e9939128>"
      ]
     },
     "metadata": {},
     "output_type": "display_data"
    },
    {
     "data": {
      "image/png": "[encoded data removed]",
      "text/plain": [
       "<matplotlib.figure.Figure at 0x1f2fefc3c18>"
      ]
     },
     "metadata": {},
     "output_type": "display_data"
    }
   ],
   "source": [
    "plt.scatter(data_store_x5, data_store_y5)\n",
    "plt.show()"
   ]
  },
  {
   "cell_type": "code",
   "execution_count": 129,
   "metadata": {},
   "outputs": [
    {
     "data": {
      "text/plain": [
       "4.194472890282521"
      ]
     },
     "execution_count": 129,
     "metadata": {},
     "output_type": "execute_result"
    }
   ],
   "source": [
    "Output=np.asarray(Generatedata(A2, D, 10000000))\n",
    "learnmodel = hmm.MultinomialHMM(n_components=4, n_iter = 500, init_params = \"st\", params = \"st\")\n",
    "learnmodel.emissionprob_ = D\n",
    "learnmodel.fit(Output, lengths=None)\n",
    "Error = np.sum(np.absolute(A2 -learnmodel.transmat_))\n"
   ]
  },
  {
   "cell_type": "code",
   "execution_count": 130,
   "metadata": {},
   "outputs": [
    {
     "data": {
      "text/plain": [
       "-3238375.3068776014"
      ]
     },
     "execution_count": 130,
     "metadata": {},
     "output_type": "execute_result"
    }
   ],
   "source": [
    "learnmodel.score(Output, lengths=None)"
   ]
  },
  {
   "cell_type": "code",
   "execution_count": 131,
   "metadata": {},
   "outputs": [],
   "source": [
    "Output=np.asarray(Generatedata(A2, D, 10000000))\n",
    "learnmodel = hmm.MultinomialHMM(n_components=4, n_iter = 500, init_params = \"s\", params = \"st\")\n",
    "learnmodel.emissionprob_ = D\n",
    "learnmodel.transmat_ = A\n",
    "learnmodel.fit(Output, lengths=None)\n",
    "Error = np.sum(np.absolute(A2 -learnmodel.transmat_))"
   ]
  },
  {
   "cell_type": "code",
   "execution_count": 132,
   "metadata": {},
   "outputs": [
    {
     "data": {
      "text/plain": [
       "0.0013277248985680778"
      ]
     },
     "execution_count": 132,
     "metadata": {},
     "output_type": "execute_result"
    }
   ],
   "source": [
    "Error"
   ]
  },
  {
   "cell_type": "code",
   "execution_count": 133,
   "metadata": {},
   "outputs": [
    {
     "data": {
      "text/plain": [
       "-2433803.0479664323"
      ]
     },
     "execution_count": 133,
     "metadata": {},
     "output_type": "execute_result"
    }
   ],
   "source": [
    "learnmodel.score(Output, lengths=None)\n"
   ]
  },
  {
   "cell_type": "code",
   "execution_count": 144,
   "metadata": {},
   "outputs": [],
   "source": [
    "Error=[];\n",
    "Error1=[];\n",
    "loglike=[];\n",
    "loglike1=[];\n",
    "\n",
    "for i in range(0, 10):\n",
    "    Output=np.asarray(Generatedata(A2, D, 100000))\n",
    "    learnmodel = hmm.MultinomialHMM(n_components=4, n_iter = 500, init_params = \"st\", params = \"st\")\n",
    "    learnmodel.emissionprob_ = D\n",
    "    learnmodel.fit(Output, lengths=None)\n",
    "    Error.append(np.sum(np.absolute(A2 -learnmodel.transmat_)))\n",
    "    loglike.append(learnmodel.score(Output, lengths=None))\n",
    "\n",
    "    learnmodel1 = hmm.MultinomialHMM(n_components=4, n_iter = 500, init_params = \"s\", params = \"st\")\n",
    "    learnmodel1.emissionprob_ = D\n",
    "    learnmodel1.transmat_ = A\n",
    "    learnmodel1.fit(Output, lengths=None)\n",
    "    Error1.append(np.sum(np.absolute(A2 -learnmodel1.transmat_)))\n",
    "    loglike.append(learnmodel1.score(Output, lengths=None))\n"
   ]
  },
  {
   "cell_type": "code",
   "execution_count": 152,
   "metadata": {},
   "outputs": [
    {
     "data": {
      "text/plain": [
       "20"
      ]
     },
     "execution_count": 152,
     "metadata": {},
     "output_type": "execute_result"
    }
   ],
   "source": [
    "time=[];\n",
    "for i in range(0,10):\n",
    "    time.append(1)\n",
    "for i in range(0,10):\n",
    "    time.append(2)\n",
    "len(loglike)\n",
    "len(time)"
   ]
  },
  {
   "cell_type": "code",
   "execution_count": 154,
   "metadata": {},
   "outputs": [
    {
     "data": {
      "image/png": "[encoded data removed]",
      "text/plain": [
       "<matplotlib.figure.Figure at 0x1f2f91ebac8>"
      ]
     },
     "metadata": {},
     "output_type": "display_data"
    }
   ],
   "source": [
    "plt.scatter(time, loglike)"
   ]
  },
  {
   "cell_type": "markdown",
   "metadata": {},
   "source": [
    "# We test the the log likelyhood between models biased towards the correct Transmat and those who are not biased towards the correct transmat\n",
    "\n",
    "## Transmat_ A2 used Emission D used\n",
    "\n",
    "##  1,000,000 & 10,000,000 Observations"
   ]
  },
  {
   "cell_type": "code",
   "execution_count": 157,
   "metadata": {},
   "outputs": [],
   "source": [
    "Error=[];\n",
    "Error1=[];\n",
    "loglike=[];\n",
    "loglike1=[];\n",
    "\n",
    "for i in range(0, 10):\n",
    "    Output=np.asarray(Generatedata(A2, D, 10000000))\n",
    "    learnmodel = hmm.MultinomialHMM(n_components=4, n_iter = 500, init_params = \"st\", params = \"st\")\n",
    "    learnmodel.emissionprob_ = D\n",
    "    learnmodel.fit(Output, lengths=None)\n",
    "    Error.append(np.sum(np.absolute(A2 -learnmodel.transmat_)))\n",
    "    loglike.append(learnmodel.score(Output, lengths=None))\n",
    "\n",
    "    learnmodel1 = hmm.MultinomialHMM(n_components=4, n_iter = 500, init_params = \"s\", params = \"st\")\n",
    "    learnmodel1.emissionprob_ = D\n",
    "    learnmodel1.transmat_ = A\n",
    "    learnmodel1.fit(Output, lengths=None)\n",
    "    Error1.append(np.sum(np.absolute(A2 -learnmodel1.transmat_)))\n",
    "    loglike.append(learnmodel1.score(Output, lengths=None))\n"
   ]
  },
  {
   "cell_type": "code",
   "execution_count": 156,
   "metadata": {},
   "outputs": [
    {
     "data": {
      "image/png": "[encoded data removed]",
      "text/plain": [
       "<matplotlib.figure.Figure at 0x1f2f914fbe0>"
      ]
     },
     "metadata": {},
     "output_type": "display_data"
    }
   ],
   "source": [
    "plt.scatter(time, loglike)\n",
    "plt.show()"
   ]
  },
  {
   "cell_type": "code",
   "execution_count": 158,
   "metadata": {},
   "outputs": [
    {
     "data": {
      "image/png": "[encoded data removed]",
      "text/plain": [
       "<matplotlib.figure.Figure at 0x1f2f34ca390>"
      ]
     },
     "metadata": {},
     "output_type": "display_data"
    }
   ],
   "source": [
    "plt.scatter(time, loglike)\n",
    "plt.show()"
   ]
  },
  {
   "cell_type": "code",
   "execution_count": 161,
   "metadata": {},
   "outputs": [
    {
     "data": {
      "text/plain": [
       "[0.0013978682316220419,\n",
       " 0.0007310591096304199,\n",
       " 0.0006454128658360262,\n",
       " 0.0005099616734047844,\n",
       " 0.0015154773203517552,\n",
       " 0.0012073924296788178,\n",
       " 0.0007892409995665689,\n",
       " 0.0012851206004327194,\n",
       " 8.102692705550917e-05,\n",
       " 0.0012665787652188748]"
      ]
     },
     "execution_count": 161,
     "metadata": {},
     "output_type": "execute_result"
    }
   ],
   "source": [
    "Error1"
   ]
  },
  {
   "cell_type": "markdown",
   "metadata": {},
   "source": [
    "# We test the the log likelyhood between models biased towards the correct Transmat and those who are not biased towards the correct transmat\n",
    "\n",
    "## Transmat_ A used Emission D used\n",
    "\n",
    "##  1,000,000 & 10,000,000 Observations"
   ]
  },
  {
   "cell_type": "code",
   "execution_count": 162,
   "metadata": {},
   "outputs": [],
   "source": [
    "Error=[];\n",
    "Error1=[];\n",
    "loglike=[];\n",
    "loglike1=[];\n",
    "\n",
    "for i in range(0, 10):\n",
    "    Output=np.asarray(Generatedata(A, D, 1000000))\n",
    "    learnmodel = hmm.MultinomialHMM(n_components=4, n_iter = 200, init_params = \"st\", params = \"st\")\n",
    "    learnmodel.emissionprob_ = D\n",
    "    learnmodel.fit(Output, lengths=None)\n",
    "    Error.append(np.sum(np.absolute(A -learnmodel.transmat_)))\n",
    "    loglike.append(learnmodel.score(Output, lengths=None))\n",
    "\n",
    "    learnmodel1 = hmm.MultinomialHMM(n_components=4, n_iter = 200, init_params = \"s\", params = \"st\")\n",
    "    learnmodel1.emissionprob_ = D\n",
    "    learnmodel1.transmat_ = A2\n",
    "    learnmodel1.fit(Output, lengths=None)\n",
    "    Error1.append(np.sum(np.absolute(A -learnmodel1.transmat_)))\n",
    "    loglike.append(learnmodel1.score(Output, lengths=None))"
   ]
  },
  {
   "cell_type": "code",
   "execution_count": 163,
   "metadata": {},
   "outputs": [
    {
     "data": {
      "image/png": "[encoded data removed]",
      "text/plain": [
       "<matplotlib.figure.Figure at 0x1f2f34caa90>"
      ]
     },
     "metadata": {},
     "output_type": "display_data"
    }
   ],
   "source": [
    "plt.scatter(time, loglike)\n",
    "plt.show()"
   ]
  },
  {
   "cell_type": "code",
   "execution_count": 165,
   "metadata": {},
   "outputs": [
    {
     "data": {
      "text/plain": [
       "[4.008997739500269,\n",
       " 4.00762239218563,\n",
       " 4.008359969785349,\n",
       " 4.006458673313936,\n",
       " 4.007198339474149,\n",
       " 4.0080728591536126,\n",
       " 4.00900879425889,\n",
       " 4.004887700542348,\n",
       " 4.00659976148726,\n",
       " 4.005464878257982]"
      ]
     },
     "execution_count": 165,
     "metadata": {},
     "output_type": "execute_result"
    }
   ],
   "source": [
    "Error"
   ]
  },
  {
   "cell_type": "code",
   "execution_count": 166,
   "metadata": {},
   "outputs": [],
   "source": [
    "Error=[];\n",
    "Error1=[];\n",
    "loglike=[];\n",
    "loglike1=[];\n",
    "\n",
    "for i in range(0, 10):\n",
    "    Output=np.asarray(Generatedata(A, D, 10000000))\n",
    "    learnmodel = hmm.MultinomialHMM(n_components=4, n_iter = 200, init_params = \"st\", params = \"st\")\n",
    "    learnmodel.emissionprob_ = D\n",
    "    learnmodel.fit(Output, lengths=None)\n",
    "    Error.append(np.sum(np.absolute(A2 -learnmodel.transmat_)))\n",
    "    loglike.append(learnmodel.score(Output, lengths=None))\n",
    "\n",
    "    learnmodel1 = hmm.MultinomialHMM(n_components=4, n_iter = 200, init_params = \"s\", params = \"st\")\n",
    "    learnmodel1.emissionprob_ = D\n",
    "    learnmodel1.transmat_ = A2\n",
    "    learnmodel1.fit(Output, lengths=None)\n",
    "    Error1.append(np.sum(np.absolute(A -learnmodel1.transmat_)))\n",
    "    loglike.append(learnmodel1.score(Output, lengths=None))"
   ]
  },
  {
   "cell_type": "code",
   "execution_count": 167,
   "metadata": {},
   "outputs": [
    {
     "data": {
      "image/png": "[encoded data removed]",
      "text/plain": [
       "<matplotlib.figure.Figure at 0x1f2e3609080>"
      ]
     },
     "metadata": {},
     "output_type": "display_data"
    }
   ],
   "source": [
    "plt.scatter(time, loglike)\n",
    "plt.show()"
   ]
  },
  {
   "cell_type": "code",
   "execution_count": 169,
   "metadata": {},
   "outputs": [
    {
     "data": {
      "text/plain": [
       "[4.007095800720897,\n",
       " 4.006456199785919,\n",
       " 4.00610940952048,\n",
       " 4.0068112792542365,\n",
       " 4.006740986608224,\n",
       " 4.006491928977724,\n",
       " 4.00597610470863,\n",
       " 4.006806412749376,\n",
       " 4.006643676322275,\n",
       " 4.006765720405795]"
      ]
     },
     "execution_count": 169,
     "metadata": {},
     "output_type": "execute_result"
    }
   ],
   "source": [
    "Error"
   ]
  },
  {
   "cell_type": "markdown",
   "metadata": {},
   "source": [
    "# We test the the log likelyhood between models biased towards the correct Transmat and those who are not biased towards the correct transmat\n",
    "\n",
    "## Transmat_ A1 used Emission D used\n",
    "\n",
    "##  1,000,000 Observations"
   ]
  },
  {
   "cell_type": "code",
   "execution_count": 170,
   "metadata": {},
   "outputs": [],
   "source": [
    "Error=[];\n",
    "Error1=[];\n",
    "loglike=[];\n",
    "loglike1=[];\n",
    "\n",
    "for i in range(0, 10):\n",
    "    Output=np.asarray(Generatedata(A1, D, 1000000))\n",
    "    learnmodel = hmm.MultinomialHMM(n_components=4, n_iter = 200, init_params = \"st\", params = \"st\")\n",
    "    learnmodel.emissionprob_ = D\n",
    "    learnmodel.fit(Output, lengths=None)\n",
    "    Error.append(np.sum(np.absolute(A2 -learnmodel.transmat_)))\n",
    "    loglike.append(learnmodel.score(Output, lengths=None))\n",
    "\n",
    "    learnmodel1 = hmm.MultinomialHMM(n_components=4, n_iter = 200, init_params = \"s\", params = \"st\")\n",
    "    learnmodel1.emissionprob_ = D\n",
    "    learnmodel1.transmat_ = A2\n",
    "    learnmodel1.fit(Output, lengths=None)\n",
    "    Error1.append(np.sum(np.absolute(A1 -learnmodel1.transmat_)))\n",
    "    loglike.append(learnmodel1.score(Output, lengths=None))"
   ]
  },
  {
   "cell_type": "code",
   "execution_count": 171,
   "metadata": {},
   "outputs": [
    {
     "data": {
      "image/png": "[encoded data removed]",
      "text/plain": [
       "<matplotlib.figure.Figure at 0x1f2f34ea860>"
      ]
     },
     "metadata": {},
     "output_type": "display_data"
    }
   ],
   "source": [
    "plt.scatter(time, loglike)\n",
    "plt.show()"
   ]
  },
  {
   "cell_type": "code",
   "execution_count": 172,
   "metadata": {},
   "outputs": [
    {
     "data": {
      "text/plain": [
       "[0.5293106072671989,\n",
       " 0.5285257409101827,\n",
       " 0.6371984642116564,\n",
       " 0.9512828527452022,\n",
       " 1.958037777482607,\n",
       " 0.9350658175943094,\n",
       " 0.5574312203614453,\n",
       " 0.4289002893816204,\n",
       " 0.6022145225586123,\n",
       " 0.8019441770839543]"
      ]
     },
     "execution_count": 172,
     "metadata": {},
     "output_type": "execute_result"
    }
   ],
   "source": [
    "Error1"
   ]
  },
  {
   "cell_type": "markdown",
   "metadata": {},
   "source": [
    "# We test the the log likelyhood between models biased towards the correct Transmat and those who are not biased towards the correct transmat\n",
    "\n",
    "## Transmat_ A1 used Emission D used\n",
    "\n",
    "## 10,000,000 & 20,000,000 Observations"
   ]
  },
  {
   "cell_type": "code",
   "execution_count": 178,
   "metadata": {},
   "outputs": [],
   "source": [
    "Error=[];\n",
    "Error1=[];\n",
    "loglike=[];\n",
    "loglike1=[];\n",
    "\n",
    "for i in range(0, 5):\n",
    "    Output=np.asarray(Generatedata(A1, D, 20000000))\n",
    "    learnmodel = hmm.MultinomialHMM(n_components=4, n_iter = 250, init_params = \"st\", params = \"st\")\n",
    "    learnmodel.emissionprob_ = D\n",
    "    learnmodel.fit(Output, lengths=None)\n",
    "    Error.append(np.sum(np.absolute(A2 -learnmodel.transmat_)))\n",
    "    loglike.append(learnmodel.score(Output, lengths=None))\n",
    "\n",
    "    learnmodel1 = hmm.MultinomialHMM(n_components=4, n_iter = 250, init_params = \"s\", params = \"st\")\n",
    "    learnmodel1.emissionprob_ = D\n",
    "    learnmodel1.transmat_ = A\n",
    "    learnmodel1.fit(Output, lengths=None)\n",
    "    Error1.append(np.sum(np.absolute(A1 -learnmodel1.transmat_)))\n",
    "    loglike.append(learnmodel1.score(Output, lengths=None))"
   ]
  },
  {
   "cell_type": "code",
   "execution_count": 176,
   "metadata": {},
   "outputs": [],
   "source": [
    "time2=[];\n",
    "for i in range(0,5):\n",
    "    time2.append(1)\n",
    "for i in range(0,5):\n",
    "    time2.append(2)"
   ]
  },
  {
   "cell_type": "code",
   "execution_count": 177,
   "metadata": {},
   "outputs": [
    {
     "data": {
      "image/png": "[encoded data removed]",
      "text/plain": [
       "<matplotlib.figure.Figure at 0x1f2e9a12978>"
      ]
     },
     "metadata": {},
     "output_type": "display_data"
    }
   ],
   "source": [
    "plt.scatter(time2, loglike)\n",
    "plt.show()"
   ]
  },
  {
   "cell_type": "code",
   "execution_count": 179,
   "metadata": {},
   "outputs": [
    {
     "data": {
      "image/png": "[encoded data removed]",
      "text/plain": [
       "<matplotlib.figure.Figure at 0x1f2e38070b8>"
      ]
     },
     "metadata": {},
     "output_type": "display_data"
    }
   ],
   "source": [
    "plt.scatter(time2, loglike)\n",
    "plt.show()"
   ]
  },
  {
   "cell_type": "markdown",
   "metadata": {},
   "source": [
    "# We test the the log likelyhood between models biased towards the correct Transmat and those who are not biased towards the correct transmat\n",
    "\n",
    "## Transmat_ A3 used Emission D used\n",
    "\n",
    "## 10,000,000 Observations"
   ]
  },
  {
   "cell_type": "code",
   "execution_count": 181,
   "metadata": {},
   "outputs": [],
   "source": [
    "Error2=[];\n",
    "Error3=[];\n",
    "loglike2=[];\n",
    "loglike3=[];\n",
    "\n",
    "for i in range(0, 4):\n",
    "    Output=np.asarray(Generatedata(A3, D, 10000000))\n",
    "    learnmodel = hmm.MultinomialHMM(n_components=4, n_iter = 250, init_params = \"st\", params = \"st\")\n",
    "    learnmodel.emissionprob_ = D\n",
    "    learnmodel.fit(Output, lengths=None)\n",
    "    Error2.append(np.sum(np.absolute(A3 -learnmodel.transmat_)))\n",
    "    loglike2.append(learnmodel.score(Output, lengths=None))\n",
    "\n",
    "    learnmodel1 = hmm.MultinomialHMM(n_components=4, n_iter = 250, init_params = \"s\", params = \"st\")\n",
    "    learnmodel1.emissionprob_ = D\n",
    "    learnmodel1.transmat_ = A2\n",
    "    learnmodel1.fit(Output, lengths=None)\n",
    "    Error3.append(np.sum(np.absolute(A3 -learnmodel1.transmat_)))\n",
    "    loglike2.append(learnmodel1.score(Output, lengths=None))"
   ]
  },
  {
   "cell_type": "code",
   "execution_count": 182,
   "metadata": {},
   "outputs": [],
   "source": [
    "time2=[];\n",
    "for i in range(0,4):\n",
    "    time2.append(1)\n",
    "for i in range(0,4):\n",
    "    time2.append(2)"
   ]
  },
  {
   "cell_type": "code",
   "execution_count": 183,
   "metadata": {},
   "outputs": [
    {
     "data": {
      "image/png": "[encoded data removed]",
      "text/plain": [
       "<matplotlib.figure.Figure at 0x1f2e9df1a20>"
      ]
     },
     "metadata": {},
     "output_type": "display_data"
    }
   ],
   "source": [
    "plt.scatter(time2, loglike2)\n",
    "plt.show()"
   ]
  },
  {
   "cell_type": "code",
   "execution_count": 185,
   "metadata": {},
   "outputs": [
    {
     "data": {
      "text/plain": [
       "array([[0.47293484, 0.02706516, 0.47293484, 0.02706516],\n",
       "       [0.02737256, 0.47262744, 0.02737256, 0.47262744],\n",
       "       [0.47293484, 0.02706516, 0.47293484, 0.02706516],\n",
       "       [0.02737256, 0.47262744, 0.02737256, 0.47262744]])"
      ]
     },
     "execution_count": 185,
     "metadata": {},
     "output_type": "execute_result"
    }
   ],
   "source": [
    "learnmodel.transmat_"
   ]
  },
  {
   "cell_type": "code",
   "execution_count": 189,
   "metadata": {},
   "outputs": [],
   "source": [
    "Error2=[];\n",
    "Error3=[];\n",
    "loglike2=[];\n",
    "loglike3=[];\n",
    "\n",
    "for i in range(0, 4):\n",
    "    Output=np.asarray(Generatedata(A1, D, 10000000))\n",
    "    learnmodel = hmm.MultinomialHMM(n_components=4, n_iter = 250, init_params = \"st\", params = \"st\")\n",
    "    learnmodel.emissionprob_ = D\n",
    "    learnmodel.fit(Output, lengths=None)\n",
    "    Error2.append(np.sum(np.absolute(A1 -learnmodel.transmat_)))\n",
    "    loglike2.append(learnmodel.score(Output, lengths=None))\n",
    "\n",
    "    learnmodel1 = hmm.MultinomialHMM(n_components=4, n_iter = 250, init_params = \"s\", params = \"st\")\n",
    "    learnmodel1.emissionprob_ = D\n",
    "    learnmodel1.transmat_ = A2\n",
    "    learnmodel1.fit(Output, lengths=None)\n",
    "    Error3.append(np.sum(np.absolute(A1 -learnmodel1.transmat_)))\n",
    "    loglike2.append(learnmodel1.score(Output, lengths=None))"
   ]
  },
  {
   "cell_type": "code",
   "execution_count": 190,
   "metadata": {},
   "outputs": [
    {
     "data": {
      "image/png": "[encoded data removed]",
      "text/plain": [
       "<matplotlib.figure.Figure at 0x1f2ea7d0278>"
      ]
     },
     "metadata": {},
     "output_type": "display_data"
    }
   ],
   "source": [
    "plt.scatter(time2, loglike2)\n",
    "plt.show()"
   ]
  },
  {
   "cell_type": "code",
   "execution_count": 1,
   "metadata": {},
   "outputs": [
    {
     "ename": "NameError",
     "evalue": "name 'Output' is not defined",
     "output_type": "error",
     "traceback": [
      "\u001b[1;31m---------------------------------------------------------------------------\u001b[0m",
      "\u001b[1;31mNameError\u001b[0m                                 Traceback (most recent call last)",
      "\u001b[1;32m<ipython-input-1-c40504e42c9b>\u001b[0m in \u001b[0;36m<module>\u001b[1;34m()\u001b[0m\n\u001b[1;32m----> 1\u001b[1;33m \u001b[0mOutput\u001b[0m\u001b[1;33m\u001b[0m\u001b[0m\n\u001b[0m",
      "\u001b[1;31mNameError\u001b[0m: name 'Output' is not defined"
     ]
    }
   ],
   "source": [
    "Output"
   ]
  },
  {
   "cell_type": "code",
   "execution_count": 3,
   "metadata": {},
   "outputs": [],
   "source": [
    "matrix = np.random.rand(4,4)\n",
    "matrix = matrix/matrix.sum(axis=1)[:, None]"
   ]
  },
  {
   "cell_type": "code",
   "execution_count": 4,
   "metadata": {},
   "outputs": [
    {
     "data": {
      "text/plain": [
       "array([[0.13973912, 0.09820025, 0.29211488, 0.46994575],\n",
       "       [0.21484899, 0.31700342, 0.19686748, 0.2712801 ],\n",
       "       [0.48559821, 0.03665433, 0.35845295, 0.11929452],\n",
       "       [0.25602826, 0.24018229, 0.18410984, 0.31967961]])"
      ]
     },
     "execution_count": 4,
     "metadata": {},
     "output_type": "execute_result"
    }
   ],
   "source": [
    "matrix"
   ]
  },
  {
   "cell_type": "code",
   "execution_count": 15,
   "metadata": {},
   "outputs": [
    {
     "data": {
      "text/plain": [
       "MultinomialHMM(algorithm='viterbi', init_params='st', n_components=4,\n",
       "        n_iter=400, params='st',\n",
       "        random_state=<mtrand.RandomState object at 0x000001C915A739D8>,\n",
       "        startprob_prior=1.0, tol=0.01, transmat_prior=1.0, verbose=False)"
      ]
     },
     "execution_count": 15,
     "metadata": {},
     "output_type": "execute_result"
    }
   ],
   "source": [
    "Output=np.asarray(Generatedata(A, D, i[1]))\n",
    "learnmodel5 = hmm.MultinomialHMM(n_components=4, n_iter = 400, init_params = \"st\", params = \"st\")\n",
    "learnmodel5.emissionprob_ = D\n",
    "learnmodel5.fit(Output, lengths=None)"
   ]
  },
  {
   "cell_type": "code",
   "execution_count": 32,
   "metadata": {},
   "outputs": [
    {
     "data": {
      "text/plain": [
       "array([[0.4969, 0.0031, 0.4969, 0.0031],\n",
       "       [0.003 , 0.497 , 0.003 , 0.497 ],\n",
       "       [0.4969, 0.0031, 0.4969, 0.0031],\n",
       "       [0.003 , 0.497 , 0.003 , 0.497 ]])"
      ]
     },
     "execution_count": 32,
     "metadata": {},
     "output_type": "execute_result"
    }
   ],
   "source": [
    "np.round(learnmodel5.transmat_, decimals=4)"
   ]
  },
  {
   "cell_type": "code",
   "execution_count": 30,
   "metadata": {},
   "outputs": [
    {
     "data": {
      "text/plain": [
       "MultinomialHMM(algorithm='viterbi', init_params='s', n_components=4,\n",
       "        n_iter=800, params='st',\n",
       "        random_state=<mtrand.RandomState object at 0x000001C915A739D8>,\n",
       "        startprob_prior=1.0, tol=0.01, transmat_prior=1.0, verbose=False)"
      ]
     },
     "execution_count": 30,
     "metadata": {},
     "output_type": "execute_result"
    }
   ],
   "source": [
    "Output=np.asarray(Generatedata(A, D, 1000000))\n",
    "learnmodel6 = hmm.MultinomialHMM(n_components=4, n_iter = 800, init_params = \"s\", params = \"st\")\n",
    "learnmodel6.emissionprob_ = D\n",
    "learnmodel6.transmat_ = A2\n",
    "learnmodel6.fit(Output, lengths=None)"
   ]
  },
  {
   "cell_type": "code",
   "execution_count": 35,
   "metadata": {},
   "outputs": [
    {
     "data": {
      "text/plain": [
       "array([[9.901e-01, 9.900e-03, 0.000e+00, 0.000e+00],\n",
       "       [9.800e-03, 9.901e-01, 0.000e+00, 1.000e-04],\n",
       "       [0.000e+00, 0.000e+00, 9.989e-01, 1.100e-03],\n",
       "       [0.000e+00, 1.000e-04, 1.100e-03, 9.988e-01]])"
      ]
     },
     "execution_count": 35,
     "metadata": {},
     "output_type": "execute_result"
    }
   ],
   "source": [
    "np.round(learnmodel6.transmat_, decimals =4)"
   ]
  },
  {
   "cell_type": "code",
   "execution_count": 19,
   "metadata": {},
   "outputs": [
    {
     "data": {
      "text/plain": [
       "750000"
      ]
     },
     "execution_count": 19,
     "metadata": {},
     "output_type": "execute_result"
    }
   ],
   "source": []
  },
  {
   "cell_type": "code",
   "execution_count": 37,
   "metadata": {},
   "outputs": [
    {
     "data": {
      "text/plain": [
       "MultinomialHMM(algorithm='viterbi', init_params='st', n_components=4,\n",
       "        n_iter=400, params='st',\n",
       "        random_state=<mtrand.RandomState object at 0x000001C915A739D8>,\n",
       "        startprob_prior=1.0, tol=0.01, transmat_prior=1.0, verbose=False)"
      ]
     },
     "execution_count": 37,
     "metadata": {},
     "output_type": "execute_result"
    }
   ],
   "source": [
    "Output=np.asarray(Generatedata(A, C, 1000000))\n",
    "learnmodel5 = hmm.MultinomialHMM(n_components=4, n_iter = 400, init_params = \"st\", params = \"st\")\n",
    "learnmodel5.emissionprob_ = C\n",
    "learnmodel5.fit(Output, lengths=None)"
   ]
  },
  {
   "cell_type": "code",
   "execution_count": 39,
   "metadata": {},
   "outputs": [
    {
     "data": {
      "text/plain": [
       "array([[9.901e-01, 9.900e-03, 0.000e+00, 0.000e+00],\n",
       "       [1.030e-02, 9.896e-01, 0.000e+00, 1.000e-04],\n",
       "       [0.000e+00, 0.000e+00, 9.990e-01, 1.000e-03],\n",
       "       [0.000e+00, 1.000e-04, 1.000e-03, 9.988e-01]])"
      ]
     },
     "execution_count": 39,
     "metadata": {},
     "output_type": "execute_result"
    }
   ],
   "source": [
    "np.round(learnmodel5.transmat_, decimals=4)"
   ]
  },
  {
   "cell_type": "code",
   "execution_count": 41,
   "metadata": {},
   "outputs": [
    {
     "data": {
      "text/plain": [
       "MultinomialHMM(algorithm='viterbi', init_params='st', n_components=4,\n",
       "        n_iter=700, params='st',\n",
       "        random_state=<mtrand.RandomState object at 0x000001C915A739D8>,\n",
       "        startprob_prior=1.0, tol=0.01, transmat_prior=1.0, verbose=False)"
      ]
     },
     "execution_count": 41,
     "metadata": {},
     "output_type": "execute_result"
    }
   ],
   "source": [
    "Output=np.asarray(Generatedata(A, C1, 1000000))\n",
    "learnmodel8 = hmm.MultinomialHMM(n_components=4, n_iter = 700, init_params = \"st\", params = \"st\")\n",
    "learnmodel8.emissionprob_ = C1\n",
    "learnmodel8.fit(Output, lengths=None)"
   ]
  },
  {
   "cell_type": "code",
   "execution_count": 43,
   "metadata": {},
   "outputs": [
    {
     "data": {
      "text/plain": [
       "array([[9.901e-01, 2.700e-03, 0.000e+00, 7.200e-03],\n",
       "       [2.800e-03, 5.451e-01, 8.000e-04, 4.512e-01],\n",
       "       [0.000e+00, 9.000e-04, 9.988e-01, 3.000e-04],\n",
       "       [7.100e-03, 4.553e-01, 2.000e-04, 5.373e-01]])"
      ]
     },
     "execution_count": 43,
     "metadata": {},
     "output_type": "execute_result"
    }
   ],
   "source": [
    "np.round(learnmodel8.transmat_, decimals=4)"
   ]
  },
  {
   "cell_type": "code",
   "execution_count": 46,
   "metadata": {},
   "outputs": [],
   "source": [
    "Output=np.asarray(Generatedata(A, D, 100000))\n"
   ]
  },
  {
   "cell_type": "code",
   "execution_count": 54,
   "metadata": {},
   "outputs": [
    {
     "data": {
      "text/plain": [
       "MultinomialHMM(algorithm='viterbi', init_params='s', n_components=4,\n",
       "        n_iter=250, params='s',\n",
       "        random_state=<mtrand.RandomState object at 0x000001C915A739D8>,\n",
       "        startprob_prior=1.0, tol=0.01, transmat_prior=1.0, verbose=False)"
      ]
     },
     "execution_count": 54,
     "metadata": {},
     "output_type": "execute_result"
    }
   ],
   "source": [
    "\n",
    "learnmodel9 = hmm.MultinomialHMM(n_components=4, n_iter = 250, init_params = \"s\", params = \"s\")\n",
    "learnmodel9.emissionprob_ = D\n",
    "learnmodel9.transmat_ = A\n",
    "learnmodel9.fit(Output, lengths=None)"
   ]
  },
  {
   "cell_type": "code",
   "execution_count": 55,
   "metadata": {},
   "outputs": [
    {
     "data": {
      "text/plain": [
       "-3579.429761304585"
      ]
     },
     "execution_count": 55,
     "metadata": {},
     "output_type": "execute_result"
    }
   ],
   "source": [
    "learnmodel9.score(Output, lengths=None)"
   ]
  },
  {
   "cell_type": "code",
   "execution_count": 56,
   "metadata": {},
   "outputs": [
    {
     "data": {
      "text/plain": [
       "MultinomialHMM(algorithm='viterbi', init_params='st', n_components=4,\n",
       "        n_iter=250, params='st',\n",
       "        random_state=<mtrand.RandomState object at 0x000001C915A739D8>,\n",
       "        startprob_prior=1.0, tol=0.01, transmat_prior=1.0, verbose=False)"
      ]
     },
     "execution_count": 56,
     "metadata": {},
     "output_type": "execute_result"
    }
   ],
   "source": [
    "\n",
    "learnmodel9 = hmm.MultinomialHMM(n_components=4, n_iter = 250, init_params = \"st\", params = \"st\")\n",
    "learnmodel9.emissionprob_ = D\n",
    "learnmodel9.fit(Output, lengths=None)"
   ]
  },
  {
   "cell_type": "code",
   "execution_count": 57,
   "metadata": {},
   "outputs": [
    {
     "data": {
      "text/plain": [
       "-3757.8637307966196"
      ]
     },
     "execution_count": 57,
     "metadata": {},
     "output_type": "execute_result"
    }
   ],
   "source": [
    "learnmodel9.score(Output, lengths=None)"
   ]
  },
  {
   "cell_type": "code",
   "execution_count": 58,
   "metadata": {},
   "outputs": [
    {
     "data": {
      "text/plain": [
       "array([[0.49666875, 0.00333125, 0.49666875, 0.00333125],\n",
       "       [0.00288139, 0.49711861, 0.00288139, 0.49711861],\n",
       "       [0.49666875, 0.00333125, 0.49666875, 0.00333125],\n",
       "       [0.00288139, 0.49711861, 0.00288139, 0.49711861]])"
      ]
     },
     "execution_count": 58,
     "metadata": {},
     "output_type": "execute_result"
    }
   ],
   "source": [
    "learnmodel9.transmat_"
   ]
  },
  {
   "cell_type": "code",
   "execution_count": 59,
   "metadata": {},
   "outputs": [
    {
     "data": {
      "text/plain": [
       "MultinomialHMM(algorithm='viterbi', init_params='st', n_components=4,\n",
       "        n_iter=250, params='st',\n",
       "        random_state=<mtrand.RandomState object at 0x000001C915A739D8>,\n",
       "        startprob_prior=1.0, tol=0.01, transmat_prior=1.0, verbose=False)"
      ]
     },
     "execution_count": 59,
     "metadata": {},
     "output_type": "execute_result"
    }
   ],
   "source": [
    "Output=np.asarray(Generatedata(A, F, 100000))\n",
    "learnmodel9 = hmm.MultinomialHMM(n_components=4, n_iter = 250, init_params = \"st\", params = \"st\")\n",
    "learnmodel9.emissionprob_ = F\n",
    "learnmodel9.fit(Output, lengths=None)"
   ]
  },
  {
   "cell_type": "code",
   "execution_count": 62,
   "metadata": {},
   "outputs": [
    {
     "data": {
      "text/plain": [
       "array([[0.499, 0.002, 0.499, 0.001],\n",
       "       [0.005, 0.991, 0.005, 0.   ],\n",
       "       [0.499, 0.002, 0.499, 0.001],\n",
       "       [0.   , 0.   , 0.   , 0.999]])"
      ]
     },
     "execution_count": 62,
     "metadata": {},
     "output_type": "execute_result"
    }
   ],
   "source": [
    "np.round(learnmodel9.transmat_, decimals = 3)"
   ]
  },
  {
   "cell_type": "code",
   "execution_count": null,
   "metadata": {},
   "outputs": [],
   "source": []
  }
 ],
 "metadata": {
  "kernelspec": {
   "display_name": "Python 3",
   "language": "python",
   "name": "python3"
  },
  "language_info": {
   "codemirror_mode": {
    "name": "ipython",
    "version": 3
   },
   "file_extension": ".py",
   "mimetype": "text/x-python",
   "name": "python",
   "nbconvert_exporter": "python",
   "pygments_lexer": "ipython3",
   "version": "3.6.2"
  }
 },
 "nbformat": 4,
 "nbformat_minor": 2
}
