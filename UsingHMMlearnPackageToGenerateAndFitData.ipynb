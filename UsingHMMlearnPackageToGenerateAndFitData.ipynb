{
 "cells": [
  {
   "cell_type": "markdown",
   "metadata": {},
   "source": [
    "First, We initialize the hmm.learn package"
   ]
  },
  {
   "cell_type": "code",
   "execution_count": 1,
   "metadata": {},
   "outputs": [],
   "source": [
    "import numpy as np\n",
    "from hmmlearn import hmm"
   ]
  },
  {
   "cell_type": "markdown",
   "metadata": {},
   "source": [
    "Below is an example script for generating a sequence of observations using the hmm.learn package\n",
    "\n",
    "1) intialize a model where n_components is equal to the number of hidden states\n",
    "\n",
    "2) initialize a Transition matrix, Emission matrix, and initial/starting probability matrix\n",
    "\n",
    "3) Use the .sample function to generate a sequence of observations X, and a sequence of hidden states Z\n",
    "    .sample returns both a random sequence of observations and a path through hidden states. "
   ]
  },
  {
   "cell_type": "code",
   "execution_count": 2,
   "metadata": {},
   "outputs": [],
   "source": [
    "\n",
    "# Initialize our model as a multinomial HMM with discrete emissions \n",
    "model = hmm.MultinomialHMM(n_components = 4)\n",
    "# Define transition matrix, emission matrix, initial probability matrix  \n",
    "model.transmat_ = np.array([[0.9, 0.05, 0.05, 0], [0.1, 0.8, 0.05, 0.05], [0.05, 0.1, 0.85, 0.0], [0.05, 0.1, 0.05, 0.8]])\n",
    "model.emissionprob_ = np.array([[1, 0, 0, 0], [0, 1, 0, 0], [0, 0, 1, 0], [0, 0, 0, 1]])\n",
    "model.startprob_ = np.array([0.25, 0.25, 0.25, 0.25])\n",
    "\n",
    "# Simulate \n",
    "X, Z = model.sample(50000);"
   ]
  },
  {
   "cell_type": "markdown",
   "metadata": {},
   "source": [
    "Below we will use the hmm.learn package to learn the HMM which was used to create the data\n",
    "\n",
    "1) we intialize a new model \n",
    "\n",
    "-n_components = the number of hidden states you want your model to have \n",
    "\n",
    "-n_iter = the upperbound for how many interation you want your model to \"learn\" through your data.\n",
    "\n",
    "-init_params = the parameters you want your model to generate a random initialization for s= startprob, t= transition, e=emission\n",
    "\n",
    "-params = the parameters you want the model to update during each training iteration. s= startprob, t= transition, e=emission\n",
    "\n",
    "2) a sequence of Observations is fed into the .fit function in order to learn a emission, transition, and start_prob matrix which was likely to have created the input sequence of observations.\n",
    "\n",
    "3) After the model is finished learning the emission, transition, and start_prob matrixes can be obtained from the model."
   ]
  },
  {
   "cell_type": "code",
   "execution_count": 3,
   "metadata": {},
   "outputs": [
    {
     "data": {
      "text/plain": [
       "array([[1.90045773e-27, 1.56704298e-03, 1.50642890e-30, 9.98432957e-01],\n",
       "       [2.97263868e-04, 9.99476404e-01, 2.26316192e-04, 1.63092337e-08],\n",
       "       [3.18544810e-04, 3.77531115e-05, 9.99643702e-01, 2.41221667e-52],\n",
       "       [9.98629665e-01, 1.30409750e-03, 6.62379182e-05, 1.07078633e-49]])"
      ]
     },
     "execution_count": 3,
     "metadata": {},
     "output_type": "execute_result"
    }
   ],
   "source": [
    "learnmodel = hmm.MultinomialHMM(n_components=4, n_iter = 10000, init_params = \"ste\", params = \"ste\")\n",
    "learnmodel.fit(X)\n",
    "learnmodel.transmat_\n",
    "learnmodel.emissionprob_ "
   ]
  },
  {
   "cell_type": "raw",
   "metadata": {},
   "source": [
    "# Save observables to a file\n",
    "np.savetxt('Sample_Gen_Hmmlearn', X, fmt='%d')\n",
    "X\n",
    "X = np.loadtxt('Sample_Gen_Hmmlearn')"
   ]
  }
 ],
 "metadata": {
  "kernelspec": {
   "display_name": "Python 3",
   "language": "python",
   "name": "python3"
  },
  "language_info": {
   "codemirror_mode": {
    "name": "ipython",
    "version": 3
   },
   "file_extension": ".py",
   "mimetype": "text/x-python",
   "name": "python",
   "nbconvert_exporter": "python",
   "pygments_lexer": "ipython3",
   "version": "3.6.2"
  }
 },
 "nbformat": 4,
 "nbformat_minor": 2
}
