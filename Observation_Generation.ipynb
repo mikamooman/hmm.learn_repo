{
 "cells": [
  {
   "cell_type": "code",
   "execution_count": null,
   "metadata": {},
   "outputs": [],
   "source": [
    "import numpy as np\n",
    "import random\n",
    "import matplotlib.pyplot as plt\n",
    "from hmmlearn import hmm\n",
    "import sys\n",
    "import warnings\n",
    "\n",
    "if not sys.warnoptions:\n",
    "    warnings.simplefilter(\"ignore\")"
   ]
  },
  {
   "cell_type": "markdown",
   "metadata": {},
   "source": [
    "# Generation Of Observations given Transition Matrix (T), Emission Matrix(E), and number of observations desired (number_obsrvations)\n",
    "\n",
    "## The Function Returns an order list of observations s.t. \n",
    "## len(Observations) = number_observations  "
   ]
  },
  {
   "cell_type": "code",
   "execution_count": null,
   "metadata": {},
   "outputs": [],
   "source": [
    "# T is Transition matrix & E is emission matrix \n",
    "def Generatedata(T, E, number_observations):\n",
    "    # we initialize and empty list in order to store our sequence of observations\n",
    "    Observations = [];\n",
    "    State = 0;\n",
    "    Prob_nextstate = 0;\n",
    "    Prob_currentobs =0;\n",
    "    # First we choose an observation given that we are in state 0\n",
    "    current_observation = random.uniform(0, 1);\n",
    "    for o_state in range(0, E.shape[1]):\n",
    "        Prob_currentobs = Prob_currentobs + E[State, o_state]\n",
    "        #Prob_currentobs = 0;\n",
    "        if current_observation <= Prob_currentobs:\n",
    "            Observations.append(o_state)\n",
    "            Prob_currentobs = 0;\n",
    "            break\n",
    "    # after appending the first observation we choose the next state\n",
    "    for time_step in range(0, number_observations-1):\n",
    "        next_state = random.uniform(0, 1);\n",
    "        #Prob_nextstate =0;\n",
    "        for i_next_state in range(0,T.shape[1]):\n",
    "            Prob_nextstate = Prob_nextstate + T[State, i_next_state];\n",
    "            if next_state <= Prob_nextstate:\n",
    "                State = i_next_state;\n",
    "                Prob_nextstate =0;\n",
    "                # we have chosen the next state so we choose and observation and append it to our list\n",
    "                current_observation = random.uniform(0, 1);\n",
    "                for o_current_observation in range(0, E.shape[1]):\n",
    "                    Prob_currentobs = Prob_currentobs + E[State, o_current_observation]\n",
    "                    # Prob_currentobs = 0;\n",
    "                    if current_observation <= Prob_currentobs:\n",
    "                        Observations.append(o_current_observation)\n",
    "                        Prob_currentobs = 0;\n",
    "                        break\n",
    "                break\n",
    "            \n",
    "    return Observations,"
   ]
  },
  {
   "cell_type": "markdown",
   "metadata": {},
   "source": [
    "# Generation Of Observations given Transition Matrix (T), Emission Matrix(E), and number of observations desired (number_obsrvations) - Observations\n",
    "\n",
    "# We also generate an ordered list of the number of consecutive steps spent emitting a given observation - switch\n",
    "\n",
    "## the list \"switch\" will have the following properties \n",
    "### len(switch) <= number_observations\n",
    "### sum(switch) = number_observations "
   ]
  },
  {
   "cell_type": "code",
   "execution_count": null,
   "metadata": {},
   "outputs": [],
   "source": [
    "# T is Transition matrix & E is emission matrix \n",
    "def Generatedata(T, E, number_observations):\n",
    "    # we initialize and empty list in order to store our sequence of observations\n",
    "    Observations = [];\n",
    "    #We will also store transitions from on -> off and vice-versa\n",
    "    switch = [];\n",
    "    # we initialize the time spent in the initial state as 1 time step\n",
    "    time_in_state =1;\n",
    "    State = 0;\n",
    "    Prob_nextstate = 0;\n",
    "    Prob_currentobs =0;\n",
    "    # First we choose an observation given that we are in state 0\n",
    "    current_observation = random.uniform(0, 1);\n",
    "    for o_state in range(0, E.shape[1]):\n",
    "        Prob_currentobs = Prob_currentobs + E[State, o_state]\n",
    "        #Prob_currentobs = 0;\n",
    "        if current_observation <= Prob_currentobs:\n",
    "            Observations.append(o_state)\n",
    "            Prob_currentobs = 0;\n",
    "            break\n",
    "    # after appending the first observation we choose the next state\n",
    "    for time_step in range(0, number_observations-1):\n",
    "        next_state = random.uniform(0, 1);\n",
    "        #Prob_nextstate =0;\n",
    "        for i_next_state in range(0,T.shape[1]):\n",
    "            Prob_nextstate = Prob_nextstate + T[State, i_next_state];\n",
    "            if next_state <= Prob_nextstate:\n",
    "                State = i_next_state;\n",
    "                Prob_nextstate =0;\n",
    "                # we have chosen the next state so we choose and observation and append it to our list\n",
    "                current_observation = random.uniform(0, 1);\n",
    "                for o_current_observation in range(0, E.shape[1]):\n",
    "                    Prob_currentobs = Prob_currentobs + E[State, o_current_observation]\n",
    "                    # Prob_currentobs = 0;\n",
    "                    if current_observation <= Prob_currentobs:\n",
    "                        # We check to see if we emit the same observation state as the last time step\n",
    "                        # If the observation is the same then we add 1 to time_in_state\n",
    "                        if o_current_observation == Observations[time_step]:\n",
    "                            time_in_state += 1\n",
    "                        # If we emit a new observation we first append the amount of steps spent emiting the previous observation\n",
    "                        # We then reset time_in_state to 1\n",
    "                        else:\n",
    "                            switch.append(time_in_state)\n",
    "                            time_in_state = 1\n",
    "                        Observations.append(o_current_observation)\n",
    "                        Prob_currentobs = 0;\n",
    "                        break\n",
    "                break\n",
    "    switch.append(time_in_state)\n",
    "    return [Observations,switch]"
   ]
  }
 ],
 "metadata": {
  "kernelspec": {
   "display_name": "Python 3",
   "language": "python",
   "name": "python3"
  },
  "language_info": {
   "codemirror_mode": {
    "name": "ipython",
    "version": 3
   },
   "file_extension": ".py",
   "mimetype": "text/x-python",
   "name": "python",
   "nbconvert_exporter": "python",
   "pygments_lexer": "ipython3",
   "version": "3.6.2"
  }
 },
 "nbformat": 4,
 "nbformat_minor": 2
}
